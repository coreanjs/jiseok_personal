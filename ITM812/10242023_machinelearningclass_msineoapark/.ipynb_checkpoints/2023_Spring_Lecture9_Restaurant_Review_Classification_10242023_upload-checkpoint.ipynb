{
 "cells": [
  {
   "cell_type": "markdown",
   "id": "5512c526-dff8-49c4-8de3-ac9de7e5c11f",
   "metadata": {},
   "source": [
    "### Machine Learning-based Data Analysis\n",
    "#### Minseo Park"
   ]
  },
  {
   "cell_type": "markdown",
   "id": "fa085c7c-2171-4b78-9014-b9aed616d515",
   "metadata": {},
   "source": [
    "### [Practice 2] : Supervised Learning"
   ]
  },
  {
   "cell_type": "markdown",
   "id": "da9797e8-2e20-4bc1-8b17-72011aad97cc",
   "metadata": {},
   "source": [
    "    0. Problem Define \n",
    "    1. Library import\n",
    "    2. Data Collection\n",
    "    3. EDA(Exploratory Data Analysis) \n",
    "    4. Preprocessing\n",
    "        - 4.1 Stemmer \n",
    "        - 4.2 Bag of Words : 문장별 단어 벡터 만들기\n",
    "        - 4.3 Train : Test 로 나누기\n",
    "    5. Modeling"
   ]
  },
  {
   "cell_type": "markdown",
   "id": "fd093881-8b07-49f7-9fcc-66285a4ad93f",
   "metadata": {},
   "source": [
    "#### [0]: Problem Define"
   ]
  },
  {
   "cell_type": "markdown",
   "id": "f961b5bb-173d-4052-9642-90620d13849b",
   "metadata": {},
   "source": [
    "레스토랑 리뷰 : 레스토랑 리뷰를 분석하여 Positive/Negative로 분류합니다. \n",
    "- Data: Kaggle (https://www.kaggle.com/akram24/restaurant-reviews)"
   ]
  },
  {
   "cell_type": "markdown",
   "id": "e5295331-8ba9-4d1e-b2d9-0ea9de84b184",
   "metadata": {},
   "source": [
    "#### [1] Libraries setteting : import libraries "
   ]
  },
  {
   "cell_type": "code",
   "execution_count": 2,
   "id": "f58623b9-69fc-4023-a6ad-2dcc1dadf832",
   "metadata": {
    "tags": []
   },
   "outputs": [],
   "source": [
    "### Import Libraries\n",
    "import pandas as pd # data provessing, CSV file I/O(e.g.pd.read_csv)\n",
    "import numpy as np\n",
    "\n",
    "## Visualization Libraries\n",
    "import matplotlib.pyplot as plt  # https://matplotlib.org/stable/gallery/index\n",
    "import seaborn as sns  # https://seaborn.pydata.org/\n",
    "%matplotlib inline\n",
    "\n",
    "#import warnings\n",
    "#warnings.filterwarnings(\"ignore\", category=FutureWarning)\n",
    "#warnings.filterwarnings(\"ignore\", category=DeprecationWarning)"
   ]
  },
  {
   "cell_type": "markdown",
   "id": "bba687f3-25b9-4bf0-9113-8fd501af6bc9",
   "metadata": {},
   "source": [
    "#### [2]: Data Collection"
   ]
  },
  {
   "cell_type": "markdown",
   "id": "5ee353e6-f10c-41bb-89cb-41734637cfdb",
   "metadata": {},
   "source": [
    "#### [2.1]: 사용할 데이터 셋을 가져옵니다: Restaurant Review"
   ]
  },
  {
   "cell_type": "code",
   "execution_count": 4,
   "id": "465d012e-3de6-494f-872e-ebb6a683839f",
   "metadata": {
    "tags": []
   },
   "outputs": [],
   "source": [
    "dataset=pd.read_csv(\"./data/Restaurant_Reviews.tsv\", delimiter='\\t')\n",
    "### TSV: 파일 형식 \"탭으로 구분 된 값\"을 의미하고,\n",
    "### 이 탭으로 구분 된 값 파일이 많은 스프레드 시트 응용 프로그램에 의해 만들어지고 사용\n",
    "### 1000개의 레스토랑 리뷰를 가져옵니다."
   ]
  },
  {
   "cell_type": "code",
   "execution_count": 7,
   "id": "0944ccd8-052b-4d5d-8792-469aca375976",
   "metadata": {
    "tags": []
   },
   "outputs": [
    {
     "data": {
      "text/html": [
       "<div>\n",
       "<style scoped>\n",
       "    .dataframe tbody tr th:only-of-type {\n",
       "        vertical-align: middle;\n",
       "    }\n",
       "\n",
       "    .dataframe tbody tr th {\n",
       "        vertical-align: top;\n",
       "    }\n",
       "\n",
       "    .dataframe thead th {\n",
       "        text-align: right;\n",
       "    }\n",
       "</style>\n",
       "<table border=\"1\" class=\"dataframe\">\n",
       "  <thead>\n",
       "    <tr style=\"text-align: right;\">\n",
       "      <th></th>\n",
       "      <th>Review</th>\n",
       "      <th>Liked</th>\n",
       "    </tr>\n",
       "  </thead>\n",
       "  <tbody>\n",
       "    <tr>\n",
       "      <th>0</th>\n",
       "      <td>Wow... Loved this place.</td>\n",
       "      <td>1</td>\n",
       "    </tr>\n",
       "    <tr>\n",
       "      <th>1</th>\n",
       "      <td>Crust is not good.</td>\n",
       "      <td>0</td>\n",
       "    </tr>\n",
       "    <tr>\n",
       "      <th>2</th>\n",
       "      <td>Not tasty and the texture was just nasty.</td>\n",
       "      <td>0</td>\n",
       "    </tr>\n",
       "    <tr>\n",
       "      <th>3</th>\n",
       "      <td>Stopped by during the late May bank holiday of...</td>\n",
       "      <td>1</td>\n",
       "    </tr>\n",
       "    <tr>\n",
       "      <th>4</th>\n",
       "      <td>The selection on the menu was great and so wer...</td>\n",
       "      <td>1</td>\n",
       "    </tr>\n",
       "  </tbody>\n",
       "</table>\n",
       "</div>"
      ],
      "text/plain": [
       "                                              Review  Liked\n",
       "0                           Wow... Loved this place.      1\n",
       "1                                 Crust is not good.      0\n",
       "2          Not tasty and the texture was just nasty.      0\n",
       "3  Stopped by during the late May bank holiday of...      1\n",
       "4  The selection on the menu was great and so wer...      1"
      ]
     },
     "execution_count": 7,
     "metadata": {},
     "output_type": "execute_result"
    }
   ],
   "source": [
    "#데이터셋을 불러와서 첫 세 줄을 출력하여 데이터의 구성을 한 번 살펴봅니다.\n",
    "dataset.head()"
   ]
  },
  {
   "cell_type": "markdown",
   "id": "b73eb9ac-40ed-41bd-bbfc-e12d58fe9fd7",
   "metadata": {},
   "source": [
    "#### [3]: EDA(Exploratory Data Analysis) : 데이터 탐색 ####\n",
    "- 통계량 확인하기 (Summary)\n",
    "- pandas 로 불러온 데이터 살펴보기: head(), shape(), info(), describe(), value_counts(), unique() 등 \n",
    "- https://hogni.tistory.com/5"
   ]
  },
  {
   "cell_type": "code",
   "execution_count": 8,
   "id": "c6ff1139-ce04-42d4-84f7-9ba7287158bf",
   "metadata": {
    "tags": []
   },
   "outputs": [
    {
     "data": {
      "text/plain": [
       "(1000, 2)"
      ]
     },
     "execution_count": 8,
     "metadata": {},
     "output_type": "execute_result"
    }
   ],
   "source": [
    "#데이터 셋 구조보기\n",
    "dataset.shape"
   ]
  },
  {
   "cell_type": "code",
   "execution_count": 9,
   "id": "ae7e02ad-ba23-4b34-a599-3f19647ffa68",
   "metadata": {
    "tags": []
   },
   "outputs": [],
   "source": [
    "### 해석) 행이 1000개, 열이 2, 리뷰를 통해 분류하는데 사용한 변수가 2개"
   ]
  },
  {
   "cell_type": "code",
   "execution_count": 12,
   "id": "781a6e25-8bca-4448-b03d-c0261d969ed5",
   "metadata": {
    "tags": []
   },
   "outputs": [
    {
     "data": {
      "text/html": [
       "<div>\n",
       "<style scoped>\n",
       "    .dataframe tbody tr th:only-of-type {\n",
       "        vertical-align: middle;\n",
       "    }\n",
       "\n",
       "    .dataframe tbody tr th {\n",
       "        vertical-align: top;\n",
       "    }\n",
       "\n",
       "    .dataframe thead th {\n",
       "        text-align: right;\n",
       "    }\n",
       "</style>\n",
       "<table border=\"1\" class=\"dataframe\">\n",
       "  <thead>\n",
       "    <tr style=\"text-align: right;\">\n",
       "      <th></th>\n",
       "      <th>Liked</th>\n",
       "    </tr>\n",
       "  </thead>\n",
       "  <tbody>\n",
       "    <tr>\n",
       "      <th>count</th>\n",
       "      <td>1000.00000</td>\n",
       "    </tr>\n",
       "    <tr>\n",
       "      <th>mean</th>\n",
       "      <td>0.50000</td>\n",
       "    </tr>\n",
       "    <tr>\n",
       "      <th>std</th>\n",
       "      <td>0.50025</td>\n",
       "    </tr>\n",
       "    <tr>\n",
       "      <th>min</th>\n",
       "      <td>0.00000</td>\n",
       "    </tr>\n",
       "    <tr>\n",
       "      <th>25%</th>\n",
       "      <td>0.00000</td>\n",
       "    </tr>\n",
       "    <tr>\n",
       "      <th>50%</th>\n",
       "      <td>0.50000</td>\n",
       "    </tr>\n",
       "    <tr>\n",
       "      <th>75%</th>\n",
       "      <td>1.00000</td>\n",
       "    </tr>\n",
       "    <tr>\n",
       "      <th>max</th>\n",
       "      <td>1.00000</td>\n",
       "    </tr>\n",
       "  </tbody>\n",
       "</table>\n",
       "</div>"
      ],
      "text/plain": [
       "            Liked\n",
       "count  1000.00000\n",
       "mean      0.50000\n",
       "std       0.50025\n",
       "min       0.00000\n",
       "25%       0.00000\n",
       "50%       0.50000\n",
       "75%       1.00000\n",
       "max       1.00000"
      ]
     },
     "execution_count": 12,
     "metadata": {},
     "output_type": "execute_result"
    }
   ],
   "source": [
    "dataset.describe()\n",
    "#.describe() 함수는 데이터의 컬럼별 요약 통계량을 나타냅니다. \n",
    "# mean(), max(), median()등 개별 함수를 사용하여 통계량을 계산할 수도 있습니다"
   ]
  },
  {
   "cell_type": "code",
   "execution_count": 14,
   "id": "29b25897-f439-422f-84fd-817a71914e8f",
   "metadata": {
    "tags": []
   },
   "outputs": [
    {
     "name": "stdout",
     "output_type": "stream",
     "text": [
      "<class 'pandas.core.frame.DataFrame'>\n",
      "RangeIndex: 1000 entries, 0 to 999\n",
      "Data columns (total 2 columns):\n",
      " #   Column  Non-Null Count  Dtype \n",
      "---  ------  --------------  ----- \n",
      " 0   Review  1000 non-null   object\n",
      " 1   Liked   1000 non-null   int64 \n",
      "dtypes: int64(1), object(1)\n",
      "memory usage: 15.8+ KB\n"
     ]
    }
   ],
   "source": [
    "### [data type]을 확인합니다.\n",
    "dataset.info()"
   ]
  },
  {
   "cell_type": "code",
   "execution_count": 17,
   "id": "6a6ddc1c-f601-4710-8d63-cf6202c66e8f",
   "metadata": {
    "tags": []
   },
   "outputs": [
    {
     "data": {
      "text/plain": [
       "Review    0\n",
       "Liked     0\n",
       "dtype: int64"
      ]
     },
     "execution_count": 17,
     "metadata": {},
     "output_type": "execute_result"
    }
   ],
   "source": [
    "### [결측치] : 비어있는 데이터를 찾습니다. \n",
    "### 여기서는 어떤 컬럼(변수, 특성, x)에 결측치가 많은지 봅니다.\n",
    "dataset.isnull().sum() # There has no null values"
   ]
  },
  {
   "cell_type": "code",
   "execution_count": 18,
   "id": "b638e80f-90be-4672-9b1f-9b029928a979",
   "metadata": {
    "tags": []
   },
   "outputs": [
    {
     "data": {
      "text/plain": [
       "<Axes: xlabel='Liked', ylabel='count'>"
      ]
     },
     "execution_count": 18,
     "metadata": {},
     "output_type": "execute_result"
    },
    {
     "data": {
      "image/png": "[encoded data removed]",
      "text/plain": [
       "<Figure size 640x480 with 1 Axes>"
      ]
     },
     "metadata": {},
     "output_type": "display_data"
    }
   ],
   "source": [
    "sns.countplot(x = dataset['Liked'], data = dataset)"
   ]
  },
  {
   "cell_type": "markdown",
   "id": "3c63d2a7-8257-437a-9996-35352d58aae6",
   "metadata": {},
   "source": [
    "#### 해석) Liked & Disliked are 500."
   ]
  },
  {
   "cell_type": "code",
   "execution_count": 19,
   "id": "a53e6a24-8cf5-4b85-be68-ab8f88bab402",
   "metadata": {
    "tags": []
   },
   "outputs": [
    {
     "data": {
      "text/plain": [
       "500"
      ]
     },
     "execution_count": 19,
     "metadata": {},
     "output_type": "execute_result"
    }
   ],
   "source": [
    "dataset[dataset['Liked'] == 1][\"Liked\"].count()"
   ]
  },
  {
   "cell_type": "code",
   "execution_count": 20,
   "id": "f2756f5e-d16c-44a2-8d7b-e3bbbd48bcb2",
   "metadata": {
    "tags": []
   },
   "outputs": [
    {
     "data": {
      "text/plain": [
       "500"
      ]
     },
     "execution_count": 20,
     "metadata": {},
     "output_type": "execute_result"
    }
   ],
   "source": [
    "dataset[dataset['Liked'] == 0][\"Liked\"].count()"
   ]
  },
  {
   "cell_type": "markdown",
   "id": "ef93d7b0-13ec-496a-93d1-013775aad430",
   "metadata": {},
   "source": [
    "    0. Problem Define \n",
    "    1. Library import\n",
    "    2. Data Collection\n",
    "    3. EDA(Exploratory Data Analysis) : 데이터 탐색\n",
    "    4. Preprocessing\n",
    "        - 4.1 Stemmer \n",
    "        - 4.2 Bag of Words : 문장별 단어 벡터 만들기\n",
    "        - 4.3 Train : Test 로 나누기\n",
    "    5. Modeling"
   ]
  },
  {
   "cell_type": "markdown",
   "id": "a8719b40-940e-48e0-a532-0bac984ee566",
   "metadata": {},
   "source": [
    "#### [4]: Preprocessing"
   ]
  },
  {
   "cell_type": "code",
   "execution_count": 21,
   "id": "aaee30ae-fdc0-4b7f-813c-cf34dd4fe0ae",
   "metadata": {
    "tags": []
   },
   "outputs": [],
   "source": [
    "from nltk.corpus import stopwords\n",
    "from nltk.stem.snowball import SnowballStemmer\n",
    "import re # 정규화"
   ]
  },
  {
   "cell_type": "markdown",
   "id": "e6cc1689-c462-4b6e-97e8-62f44e424cbe",
   "metadata": {},
   "source": [
    "\n",
    "  [nltk.corpus.stopword]\n",
    "  - 자연어처리를 할때, 너무 빈번하게 나와서, 아무의미 없다고 판단되는 단어들을 보통 “stopword”라고 부릅니다. \n",
    "  - 가령, ‘a’, ‘the’와 같은 단어들은 모든 구문(phrase)들에 매우 많이 등장합니다. 따라서 아무 의미를 가지지 못합니다.\n",
    "      - 사실 연구자 혹은 분석가가 자연어 처리중에 보면, “아 이 단어는 제외해야겠구나”라는 생각이 옵니다. \n",
    "      - 앞에서 본 것처럼 너무 명확하고, 아무 의미가 없는 것이니까요.\n",
    "  - Reference: https://frhyme.github.io/python-libs/nltk_stopwords/\n",
    "  \n",
    "  [TF-IDF]\n",
    "  - 다른 방법으로는 TF-IDF 값을 사용할 수도 있습니다. \n",
    "      - TF-IDF는 “Term Frequency - Inverse Document Frequency”를 말하며, 키워드의 빈도(TF)가 클수록 크고, 등장한 문서의 비율(DF)가 클수록 작아집니다.\n",
    "      - 즉, DF가 클수록 작아집니다. \n",
    "      - 보통 stopword는 DF(Document Frequency)가 굉장히 큽니다. 대부분의 문서에서 등장합니다.\n",
    "  - nltk.corpus.stopwords.words('english')를 사용해서 보편적으로 사용되는 stopwords를 가져올 수 있습니다. \n",
    "  - nltk.corpus.stopword 에는 다음 단어들이 포함되어 있죠. 보면 대략 합당하고 느껴집니다.\n",
    "  - Reference: https://wikidocs.net/22530\n",
    "\n",
    "  [Stemming] \n",
    "  - Stemming은 단어에서 접사(affix)를 제거하는 것을 의미합니다.\n",
    "  - Stemming은 검색엔진에서 색인할 때 가장 많이 씁니다. \n",
    "  - 모든 형태의 단어를 저장하는것 보다 Stemming한 단어를 저장하는 것이 색인 크기를 줄일 뿐만아니라 검색 정확성을 높일 수 있습니다. \n",
    "  - 이런 알고리즘 stemmer/stemming algorithm 이라고 합니다.\n",
    "  - Reference: https://excelsior-cjh.tistory.com/67"
   ]
  },
  {
   "cell_type": "markdown",
   "id": "59e4b521-e534-4b92-86a7-221ebed98382",
   "metadata": {},
   "source": [
    "#### [4-1 Stemmer] SnowballStemmer Class"
   ]
  },
  {
   "cell_type": "markdown",
   "id": "8b247bf2-0fb2-4dae-8ae2-509b3bcbd72e",
   "metadata": {},
   "source": [
    "- steeming words를 지원하는 class가 여러개가 있습니다. \n",
    "- 그 중 본 강의에서는 영어 외의 13개 국가의 언어에대한 Stemming을 지원하는 SnowballStemmer를 사용합니다. "
   ]
  },
  {
   "cell_type": "code",
   "execution_count": 22,
   "id": "01cb1fca-34a2-49bb-961d-968bd115f342",
   "metadata": {
    "tags": []
   },
   "outputs": [],
   "source": [
    "stemmer = SnowballStemmer('english')"
   ]
  },
  {
   "cell_type": "code",
   "execution_count": 23,
   "id": "ef21e080-c5ab-4426-9619-712001f070a7",
   "metadata": {
    "tags": []
   },
   "outputs": [
    {
     "data": {
      "text/plain": [
       "<nltk.stem.snowball.SnowballStemmer at 0x256bcf230d0>"
      ]
     },
     "execution_count": 23,
     "metadata": {},
     "output_type": "execute_result"
    }
   ],
   "source": [
    "stemmer"
   ]
  },
  {
   "cell_type": "code",
   "execution_count": 24,
   "id": "ac20b3f7-4496-490e-b75a-a55b40abceb9",
   "metadata": {
    "tags": []
   },
   "outputs": [],
   "source": [
    "corpus=[]"
   ]
  },
  {
   "cell_type": "code",
   "execution_count": 25,
   "id": "20891b4d-070b-4fcf-a8ec-e66eda7b343d",
   "metadata": {
    "tags": []
   },
   "outputs": [
    {
     "name": "stderr",
     "output_type": "stream",
     "text": [
      "[nltk_data] Downloading package stopwords to\n",
      "[nltk_data]     C:\\Users\\User\\AppData\\Roaming\\nltk_data...\n",
      "[nltk_data]   Unzipping corpora\\stopwords.zip.\n"
     ]
    }
   ],
   "source": [
    "##stemmer = SnowballStemmer('english')\n",
    "import nltk\n",
    "nltk.download('stopwords')\n",
    "\n",
    "corpus = []\n",
    "for i in range(0,1000):\n",
    "    review = re.sub('[^a-zA-Z]',' ',dataset['Review'][i]) \n",
    "    ## ^뒤의 문자열로 문자열이 시작됩니다.\n",
    "    ## sub = substitution.\n",
    "    ## 가정입니다. \n",
    "    ## 알파벳을 제외한 문자들을 ' '로 대체합니다.\n",
    "    ## 영어 문장에 각주 등과 같은 이유로 특수 문자가 섞여있습니다. \n",
    "    ## 자연어 처리를 위해 특수 문자를 제거하고 싶다면 알파벳 외의 문자는 공백으로 처리하는 등의 사용 용도로 쓸 수 있습니다.\n",
    "    \n",
    "    review = review.lower() ## 대문자를 소문자(lower)로 바꾸어 줍니다.\n",
    "    review = review.split()\n",
    "    review = [stemmer.stem(word) for word in review if word not in set(stopwords.words('english'))]\n",
    "    #stemmer 에 있는 모든 단어에서 접사를 빼고 review 에 넣어줍니다. \n",
    "    \n",
    "    review = ' '.join(review)\n",
    "    corpus.append(review)\n",
    "    #append를 사용해서 계속 붙여 나갑니다."
   ]
  },
  {
   "cell_type": "markdown",
   "id": "6aca4c23-bcc2-4f2b-969a-722af632c15b",
   "metadata": {},
   "source": [
    "  [Regular Expression]\n",
    "  \n",
    "    - split(): 함수는 입력된 정규 표현식을 기준으로 문자열들을 분리하여 리스트로 리턴합니다. \n",
    "    - 자연어 처리에 있어서 가장 많이 사용되는 정규 표현식 함수 중 하나인데, 토큰화에 유용하게 쓰일 수 있기 때문입니다.\n",
    "    - import re\n",
    "        - text=\"사과 딸기 수박 메론 바나나\"\n",
    "        - re.split(\" \",text)\n",
    "    - 결과\n",
    "        - ['사과', '딸기', '수박', '메론', '바나나']\n",
    "    - Reference : https://wikidocs.net/21703"
   ]
  },
  {
   "cell_type": "code",
   "execution_count": 18,
   "id": "feb4a0d7-8ba8-4a8d-b430-00599cac1958",
   "metadata": {},
   "outputs": [],
   "source": [
    "### import nltk\n",
    "### nltk.download()\n",
    "\n",
    "### 또다른 방법\n",
    "### !pip install nltk (at jupyter)\n",
    "### pip install nltk(at python console)"
   ]
  },
  {
   "cell_type": "code",
   "execution_count": 19,
   "id": "7299c8ff-592c-4759-94fd-9e8f2dcb43fe",
   "metadata": {},
   "outputs": [
    {
     "data": {
      "text/html": [
       "<div>\n",
       "<style scoped>\n",
       "    .dataframe tbody tr th:only-of-type {\n",
       "        vertical-align: middle;\n",
       "    }\n",
       "\n",
       "    .dataframe tbody tr th {\n",
       "        vertical-align: top;\n",
       "    }\n",
       "\n",
       "    .dataframe thead th {\n",
       "        text-align: right;\n",
       "    }\n",
       "</style>\n",
       "<table border=\"1\" class=\"dataframe\">\n",
       "  <thead>\n",
       "    <tr style=\"text-align: right;\">\n",
       "      <th></th>\n",
       "      <th>Review</th>\n",
       "      <th>Liked</th>\n",
       "    </tr>\n",
       "  </thead>\n",
       "  <tbody>\n",
       "    <tr>\n",
       "      <th>0</th>\n",
       "      <td>Wow... Loved this place.</td>\n",
       "      <td>1</td>\n",
       "    </tr>\n",
       "    <tr>\n",
       "      <th>1</th>\n",
       "      <td>Crust is not good.</td>\n",
       "      <td>0</td>\n",
       "    </tr>\n",
       "    <tr>\n",
       "      <th>2</th>\n",
       "      <td>Not tasty and the texture was just nasty.</td>\n",
       "      <td>0</td>\n",
       "    </tr>\n",
       "    <tr>\n",
       "      <th>3</th>\n",
       "      <td>Stopped by during the late May bank holiday of...</td>\n",
       "      <td>1</td>\n",
       "    </tr>\n",
       "    <tr>\n",
       "      <th>4</th>\n",
       "      <td>The selection on the menu was great and so wer...</td>\n",
       "      <td>1</td>\n",
       "    </tr>\n",
       "  </tbody>\n",
       "</table>\n",
       "</div>"
      ],
      "text/plain": [
       "                                              Review  Liked\n",
       "0                           Wow... Loved this place.      1\n",
       "1                                 Crust is not good.      0\n",
       "2          Not tasty and the texture was just nasty.      0\n",
       "3  Stopped by during the late May bank holiday of...      1\n",
       "4  The selection on the menu was great and so wer...      1"
      ]
     },
     "execution_count": 19,
     "metadata": {},
     "output_type": "execute_result"
    }
   ],
   "source": [
    "dataset.head()\n",
    "### dataset=pd.read_csv(\"./data/Restaurant_Reviews.tsv\", delimiter='\\t')"
   ]
  },
  {
   "cell_type": "markdown",
   "id": "7f83424e-7385-40b7-935d-0f5f9908337e",
   "metadata": {},
   "source": [
    "##### 데이터 전처리가 잘 되어 있는지 확인해 보자!!"
   ]
  },
  {
   "cell_type": "code",
   "execution_count": 20,
   "id": "070a40a4-3069-41cd-aada-e0d0ed7d069a",
   "metadata": {},
   "outputs": [
    {
     "data": {
      "text/plain": [
       "'wow love place'"
      ]
     },
     "execution_count": 20,
     "metadata": {},
     "output_type": "execute_result"
    }
   ],
   "source": [
    "corpus[0]\n",
    "### corpus는 전처리 후의 데이터 셋"
   ]
  },
  {
   "cell_type": "code",
   "execution_count": 21,
   "id": "daa70f88-176d-44c6-8027-2ecd3683976c",
   "metadata": {},
   "outputs": [
    {
     "data": {
      "text/plain": [
       "'crust good'"
      ]
     },
     "execution_count": 21,
     "metadata": {},
     "output_type": "execute_result"
    }
   ],
   "source": [
    "corpus[1]"
   ]
  },
  {
   "cell_type": "markdown",
   "id": "ba1a8730-38b7-448e-9d67-ca767164d257",
   "metadata": {},
   "source": [
    "#### 해석) \n",
    "- 모든 데이터의 전처리를 잘 마쳤는지, corpus의 길이를 확인합니다.  \n",
    "- corpus는 전처리된 리스트들이 들어 있는 테이블 입니다."
   ]
  },
  {
   "cell_type": "code",
   "execution_count": 22,
   "id": "b3640f9f-4970-4287-8e32-4546a349f4b1",
   "metadata": {},
   "outputs": [
    {
     "data": {
      "text/plain": [
       "1000"
      ]
     },
     "execution_count": 22,
     "metadata": {},
     "output_type": "execute_result"
    }
   ],
   "source": [
    "len(corpus)"
   ]
  },
  {
   "cell_type": "code",
   "execution_count": 23,
   "id": "174a1d3b-5c69-4fef-b1bb-17b6df2ca723",
   "metadata": {},
   "outputs": [
    {
     "data": {
      "text/plain": [
       "1000"
      ]
     },
     "execution_count": 23,
     "metadata": {},
     "output_type": "execute_result"
    }
   ],
   "source": [
    "len(dataset) ## 기존 데이터셋과 같음을 확인하기 위해 점검"
   ]
  },
  {
   "cell_type": "code",
   "execution_count": 24,
   "id": "1c805d79-d4b7-4d3e-95ef-be6be5b8600c",
   "metadata": {},
   "outputs": [
    {
     "data": {
      "text/html": [
       "<div>\n",
       "<style scoped>\n",
       "    .dataframe tbody tr th:only-of-type {\n",
       "        vertical-align: middle;\n",
       "    }\n",
       "\n",
       "    .dataframe tbody tr th {\n",
       "        vertical-align: top;\n",
       "    }\n",
       "\n",
       "    .dataframe thead th {\n",
       "        text-align: right;\n",
       "    }\n",
       "</style>\n",
       "<table border=\"1\" class=\"dataframe\">\n",
       "  <thead>\n",
       "    <tr style=\"text-align: right;\">\n",
       "      <th></th>\n",
       "      <th>Review</th>\n",
       "      <th>Liked</th>\n",
       "    </tr>\n",
       "  </thead>\n",
       "  <tbody>\n",
       "    <tr>\n",
       "      <th>995</th>\n",
       "      <td>I think food should have flavor and texture an...</td>\n",
       "      <td>0</td>\n",
       "    </tr>\n",
       "    <tr>\n",
       "      <th>996</th>\n",
       "      <td>Appetite instantly gone.</td>\n",
       "      <td>0</td>\n",
       "    </tr>\n",
       "    <tr>\n",
       "      <th>997</th>\n",
       "      <td>Overall I was not impressed and would not go b...</td>\n",
       "      <td>0</td>\n",
       "    </tr>\n",
       "    <tr>\n",
       "      <th>998</th>\n",
       "      <td>The whole experience was underwhelming, and I ...</td>\n",
       "      <td>0</td>\n",
       "    </tr>\n",
       "    <tr>\n",
       "      <th>999</th>\n",
       "      <td>Then, as if I hadn't wasted enough of my life ...</td>\n",
       "      <td>0</td>\n",
       "    </tr>\n",
       "  </tbody>\n",
       "</table>\n",
       "</div>"
      ],
      "text/plain": [
       "                                                Review  Liked\n",
       "995  I think food should have flavor and texture an...      0\n",
       "996                           Appetite instantly gone.      0\n",
       "997  Overall I was not impressed and would not go b...      0\n",
       "998  The whole experience was underwhelming, and I ...      0\n",
       "999  Then, as if I hadn't wasted enough of my life ...      0"
      ]
     },
     "execution_count": 24,
     "metadata": {},
     "output_type": "execute_result"
    }
   ],
   "source": [
    "dataset.tail()"
   ]
  },
  {
   "cell_type": "code",
   "execution_count": 25,
   "id": "fac58a3e-24ec-49bb-aac8-beb22a4cf434",
   "metadata": {},
   "outputs": [
    {
     "data": {
      "text/plain": [
       "'wast enough life pour salt wound draw time took bring check'"
      ]
     },
     "execution_count": 25,
     "metadata": {},
     "output_type": "execute_result"
    }
   ],
   "source": [
    "corpus[999] ### 데이터 전처리 되 후의 데이터 확인"
   ]
  },
  {
   "cell_type": "code",
   "execution_count": 26,
   "id": "afab50e3-d204-4b07-b793-0aa7582fa210",
   "metadata": {},
   "outputs": [
    {
     "data": {
      "text/plain": [
       "\"Then, as if I hadn't wasted enough of my life there, they poured salt in the wound by drawing out the time it took to bring the check.\""
      ]
     },
     "execution_count": 26,
     "metadata": {},
     "output_type": "execute_result"
    }
   ],
   "source": [
    "dataset[\"Review\"][999] ### 원본 데이터 확인"
   ]
  },
  {
   "cell_type": "markdown",
   "id": "131e9b84-a82c-4aa0-9dec-0850e1a0dca4",
   "metadata": {},
   "source": [
    "#### 해석) \n",
    "- raw data 와 preprocessed data 를 비교해 봅니다."
   ]
  },
  {
   "cell_type": "code",
   "execution_count": 27,
   "id": "22e49c95-1a04-4f1e-ab82-9239f8351e75",
   "metadata": {},
   "outputs": [
    {
     "data": {
      "text/html": [
       "<div>\n",
       "<style scoped>\n",
       "    .dataframe tbody tr th:only-of-type {\n",
       "        vertical-align: middle;\n",
       "    }\n",
       "\n",
       "    .dataframe tbody tr th {\n",
       "        vertical-align: top;\n",
       "    }\n",
       "\n",
       "    .dataframe thead th {\n",
       "        text-align: right;\n",
       "    }\n",
       "</style>\n",
       "<table border=\"1\" class=\"dataframe\">\n",
       "  <thead>\n",
       "    <tr style=\"text-align: right;\">\n",
       "      <th></th>\n",
       "      <th>Review</th>\n",
       "      <th>Liked</th>\n",
       "    </tr>\n",
       "  </thead>\n",
       "  <tbody>\n",
       "    <tr>\n",
       "      <th>0</th>\n",
       "      <td>Wow... Loved this place.</td>\n",
       "      <td>1</td>\n",
       "    </tr>\n",
       "    <tr>\n",
       "      <th>1</th>\n",
       "      <td>Crust is not good.</td>\n",
       "      <td>0</td>\n",
       "    </tr>\n",
       "    <tr>\n",
       "      <th>2</th>\n",
       "      <td>Not tasty and the texture was just nasty.</td>\n",
       "      <td>0</td>\n",
       "    </tr>\n",
       "    <tr>\n",
       "      <th>3</th>\n",
       "      <td>Stopped by during the late May bank holiday of...</td>\n",
       "      <td>1</td>\n",
       "    </tr>\n",
       "    <tr>\n",
       "      <th>4</th>\n",
       "      <td>The selection on the menu was great and so wer...</td>\n",
       "      <td>1</td>\n",
       "    </tr>\n",
       "  </tbody>\n",
       "</table>\n",
       "</div>"
      ],
      "text/plain": [
       "                                              Review  Liked\n",
       "0                           Wow... Loved this place.      1\n",
       "1                                 Crust is not good.      0\n",
       "2          Not tasty and the texture was just nasty.      0\n",
       "3  Stopped by during the late May bank holiday of...      1\n",
       "4  The selection on the menu was great and so wer...      1"
      ]
     },
     "execution_count": 27,
     "metadata": {},
     "output_type": "execute_result"
    }
   ],
   "source": [
    "dataset.head()"
   ]
  },
  {
   "cell_type": "code",
   "execution_count": 28,
   "id": "d6f69e4c-7df7-498a-9e58-6e6174aa503e",
   "metadata": {},
   "outputs": [
    {
     "data": {
      "text/plain": [
       "'Wow... Loved this place.'"
      ]
     },
     "execution_count": 28,
     "metadata": {},
     "output_type": "execute_result"
    }
   ],
   "source": [
    "dataset[\"Review\"][0]"
   ]
  },
  {
   "cell_type": "code",
   "execution_count": 29,
   "id": "e2e79b51-3898-4d39-a179-e4c5f6d781e9",
   "metadata": {},
   "outputs": [
    {
     "data": {
      "text/plain": [
       "'wow love place'"
      ]
     },
     "execution_count": 29,
     "metadata": {},
     "output_type": "execute_result"
    }
   ],
   "source": [
    "corpus[0]"
   ]
  },
  {
   "cell_type": "markdown",
   "id": "63e41cb2-2e06-4d83-9a0c-b84a31cfd71d",
   "metadata": {},
   "source": [
    "    0. Problem Define \n",
    "    1. Library import\n",
    "    2. Data Collection\n",
    "    3. EDA(Exploratory Data Analysis) : 데이터 탐색\n",
    "    4. Preprocessing\n",
    "        - 4.1 Stemmer \n",
    "        - 4.2 Bag of Words : 문장별 단어 벡터 만들기\n",
    "        - 4.3 Train : Test 로 나누기\n",
    "    5. Modeling"
   ]
  },
  {
   "cell_type": "markdown",
   "id": "0a119e19-efbf-464f-87d5-7496093b356b",
   "metadata": {},
   "source": [
    "#### [4-2 Bag of Words]"
   ]
  },
  {
   "cell_type": "markdown",
   "id": "970200b3-53b5-420e-b6fe-bbdcddb53bdc",
   "metadata": {},
   "source": [
    "#####  [참고 0] Sentimantal Analysis: 단어 벡터 및 단어 갯수\n",
    "- https://smlee729.github.io/python/natural%20language%20processing/2015/04/06/1-sentimental-analysis-2.html"
   ]
  },
  {
   "cell_type": "code",
   "execution_count": 30,
   "id": "a479eb63-f417-4610-aa52-b6002db40ad6",
   "metadata": {},
   "outputs": [],
   "source": [
    "from sklearn.feature_extraction.text import CountVectorizer\n",
    "### Convert a collection of text documents to a matrix of token counts\n",
    "### sklearn>>feature_extraction>>text>>CountVectorizer"
   ]
  },
  {
   "cell_type": "code",
   "execution_count": 31,
   "id": "8f56d21a-6ebe-4d78-be2f-cd2876255453",
   "metadata": {},
   "outputs": [],
   "source": [
    "#디폴트 값으로 CountVectorizer를 만들어줍니다.\n",
    "cv = CountVectorizer(max_features=1500)"
   ]
  },
  {
   "cell_type": "markdown",
   "id": "7e0bcbc2-76fc-420a-b79a-1672a6fbd086",
   "metadata": {},
   "source": [
    "#####  [참고 1] max_features\n",
    "- max_feature는 최대 feature 갯수를 설정해주는 파라미터입니다.\n",
    "- 해당 파라미터를 이해하려면, feature의 개념에 대해 아셔야 합니다.\n",
    "- 머신러닝에서 feature란, 테이블의 컬럼에 해당하는 개념입니다. 또한 행렬의 열에 해당하는 것이기도 합니다.\n",
    "- 그럼 구체적인 예시를 코드로 한 번 살펴보겠습니다.\n",
    "- 만약 한 문장에서 15 종류의 단어가 사용되었다면, feature 값은 15이다. max_features 값은 최대 단어의 종류(15)가 될 것 이다. \n",
    "- 또 다른 의미로는 너무 많은 단어가 있을 경우, 가장 빈도수가 높은 단어 15개만 사용합니다."
   ]
  },
  {
   "cell_type": "markdown",
   "id": "4f1dd802-6a85-4365-971e-80274bed7a77",
   "metadata": {},
   "source": [
    "#####  [참고 2] CountVectorizer\n",
    "\n",
    "- 단어들의 카운트(출현 빈도(frequency))로 여러 문서들을 벡터화\n",
    "- 카운트 행렬, 단어 문서 행렬 (Term-Document Matrix, TDM))\n",
    "- 모두 소문자로 변환시키기 때문에 me 와 Me 는 모두 같은 특성이 된다."
   ]
  },
  {
   "cell_type": "code",
   "execution_count": 32,
   "id": "158cb128-8de1-4e1f-891e-4f28fbc378ad",
   "metadata": {},
   "outputs": [
    {
     "data": {
      "text/plain": [
       "CountVectorizer(max_features=1500)"
      ]
     },
     "execution_count": 32,
     "metadata": {},
     "output_type": "execute_result"
    }
   ],
   "source": [
    "cv.fit(corpus)\n",
    "### fit 함수를 통해서 각 리뷰들을 대입합니다. (단어 그대로 사용해서) 벡터로 만들어 줍니다."
   ]
  },
  {
   "cell_type": "code",
   "execution_count": 33,
   "id": "1dc97fe6-4472-451c-a6c5-0d7e49202656",
   "metadata": {},
   "outputs": [
    {
     "name": "stdout",
     "output_type": "stream",
     "text": [
      "Vocabulary: \n",
      "{'wow': 1482, 'love': 762, 'place': 972, 'crust': 312, 'good': 581, 'tasti': 1299, 'textur': 1311, 'nasti': 845, 'stop': 1248, 'late': 740, 'may': 789, 'bank': 91, 'holiday': 652, 'rick': 1088, 'steve': 1241, 'recommend': 1055, 'select': 1143, 'menu': 798, 'great': 595, 'price': 1005, 'get': 565, 'angri': 33, 'want': 1433, 'damn': 321, 'pho': 960, 'honeslti': 655, 'tast': 1297, 'fresh': 540, 'potato': 997, 'like': 750, 'rubber': 1102, 'could': 285, 'tell': 1304, 'made': 771, 'ahead': 15, 'time': 1332, 'kept': 729, 'warmer': 1435, 'fri': 541, 'touch': 1350, 'servic': 1152, 'prompt': 1016, 'would': 1480, 'go': 575, 'back': 82, 'cashier': 201, 'care': 194, 'ever': 449, 'say': 1128, 'still': 1243, 'end': 433, 'wayyy': 1443, 'overpr': 912, 'tri': 1360, 'cape': 190, 'cod': 247, 'ravoli': 1045, 'chicken': 224, 'cranberri': 298, 'mmmm': 817, 'disgust': 372, 'pretti': 1004, 'sure': 1283, 'human': 671, 'hair': 615, 'shock': 1161, 'sign': 1172, 'indic': 693, 'cash': 199, 'high': 645, 'waitress': 1430, 'littl': 753, 'slow': 1184, 'worth': 1479, 'let': 747, 'alon': 23, 'vega': 1404, 'blah': 132, 'food': 526, 'amaz': 27, 'also': 24, 'cute': 319, 'interior': 707, 'beauti': 107, 'perform': 952, 'right': 1090, 'red': 1056, 'velvet': 1410, 'cake': 181, 'ohhh': 881, 'stuff': 1261, 'never': 854, 'brought': 163, 'salad': 1112, 'ask': 59, 'hole': 651, 'wall': 1432, 'mexican': 801, 'street': 1253, 'taco': 1289, 'friend': 543, 'staff': 1229, 'took': 1344, 'hour': 666, 'tabl': 1288, 'restaur': 1078, 'luke': 766, 'warm': 1434, 'sever': 1154, 'run': 1104, 'around': 55, 'total': 1349, 'overwhelm': 913, 'worst': 1478, 'salmon': 1113, 'sashimi': 1121, 'combo': 254, 'burger': 170, 'beer': 110, 'decent': 328, 'deal': 327, 'final': 502, 'blow': 141, 'found': 533, 'accid': 2, 'happier': 626, 'seem': 1141, 'quick': 1033, 'grab': 588, 'bite': 130, 'familiar': 479, 'pub': 1021, 'favor': 489, 'look': 759, 'elsewher': 429, 'overal': 909, 'lot': 761, 'redeem': 1057, 'qualiti': 1031, 'inexpens': 696, 'ampl': 31, 'portion': 993, 'poor': 990, 'waiter': 1429, 'feel': 492, 'stupid': 1262, 'everi': 450, 'came': 185, 'first': 509, 'visit': 1421, 'hiro': 649, 'delight': 343, 'suck': 1269, 'shrimp': 1169, 'tender': 1307, 'moist': 819, 'enough': 436, 'drag': 392, 'establish': 443, 'hard': 627, 'judg': 725, 'whether': 1456, 'side': 1171, 'gross': 605, 'melt': 797, 'styrofoam': 1264, 'eat': 412, 'fear': 491, 'sick': 1170, 'posit': 994, 'note': 868, 'server': 1151, 'attent': 66, 'provid': 1020, 'frozen': 545, 'puck': 1023, 'peopl': 949, 'behind': 112, 'regist': 1064, 'thing': 1318, 'prime': 1007, 'rib': 1084, 'dessert': 354, 'section': 1139, 'bad': 84, 'generic': 562, 'beef': 109, 'cook': 277, 'sandwich': 1119, 'firehous': 508, 'greek': 598, 'dress': 397, 'pita': 970, 'hummus': 673, 'refresh': 1061, 'order': 897, 'duck': 405, 'rare': 1039, 'pink': 968, 'insid': 701, 'nice': 857, 'char': 211, 'outsid': 905, 'us': 1395, 'realiz': 1049, 'husband': 677, 'left': 744, 'sunglass': 1280, 'chow': 232, 'horribl': 660, 'attitud': 67, 'toward': 1352, 'custom': 317, 'talk': 1293, 'one': 889, 'enjoy': 435, 'huge': 670, 'wonder': 1470, 'imagin': 684, 'heart': 635, 'attack': 65, 'grill': 601, 'downtown': 391, 'absolut': 0, 'flat': 513, 'excus': 459, 'much': 832, 'seafood': 1134, 'string': 1256, 'pasta': 935, 'bottom': 152, 'amount': 30, 'sauc': 1125, 'power': 1000, 'scallop': 1129, 'perfect': 951, 'rip': 1093, 'banana': 90, 'petrifi': 956, 'tasteless': 1298, 'least': 742, 'think': 1319, 'refil': 1059, 'water': 1440, 'struggl': 1259, 'wave': 1441, 'minut': 812, 'receiv': 1053, 'star': 1232, 'appet': 48, 'cocktail': 245, 'handmad': 622, 'delici': 341, 'definit': 337, 'glad': 570, 'give': 568, 'militari': 807, 'discount': 370, 'alway': 26, 'dos': 383, 'gringo': 602, 'updat': 1392, 'went': 1452, 'second': 1138, 'got': 585, 'appar': 46, 'heard': 634, 'salt': 1115, 'batter': 101, 'fish': 510, 'chewi': 223, 'way': 1442, 'finish': 506, 'includ': 689, 'drink': 400, 'jeff': 715, 'beyond': 119, 'expect': 461, 'realli': 1050, 'rice': 1086, 'meh': 796, 'min': 810, 'milkshak': 809, 'noth': 869, 'chocol': 229, 'milk': 808, 'guess': 610, 'known': 735, 'excalibur': 455, 'use': 1396, 'common': 257, 'sens': 1146, 'dish': 373, 'quit': 1034, 'appal': 45, 'valu': 1401, 'well': 1451, 'sweet': 1286, 'season': 1136, 'today': 1337, 'lunch': 768, 'buffet': 166, 'cheat': 216, 'wast': 1438, 'opportun': 894, 'compani': 258, 'come': 255, 'experienc': 464, 'underwhelm': 1379, 'relationship': 1067, 'parti': 931, 'wait': 1428, 'person': 955, 'break': 158, 'walk': 1431, 'smell': 1189, 'old': 884, 'greas': 593, 'trap': 1358, 'other': 899, 'turkey': 1370, 'roast': 1095, 'bland': 134, 'pan': 923, 'everyon': 451, 'rave': 1044, 'sugari': 1273, 'disast': 368, 'tailor': 1290, 'palat': 920, 'six': 1180, 'year': 1490, 'spring': 1227, 'roll': 1097, 'oh': 880, 'yummi': 1498, 'meat': 794, 'ratio': 1043, 'unsatisfi': 1388, 'omelet': 887, 'die': 357, 'everyth': 452, 'summari': 1276, 'larg': 738, 'disappoint': 366, 'dine': 360, 'experi': 463, 'sexi': 1156, 'mouth': 828, 'outrag': 903, 'flirt': 518, 'hottest': 665, 'rock': 1096, 'casino': 202, 'step': 1240, 'forward': 532, 'best': 117, 'breakfast': 159, 'bye': 176, 'tip': 1334, 'ladi': 737, 'arriv': 57, 'cafe': 180, 'serv': 1150, 'fantast': 483, 'wife': 1461, 'garlic': 557, 'bone': 147, 'marrow': 788, 'ad': 11, 'extra': 468, 'meal': 792, 'anoth': 35, 'help': 642, 'bloddi': 138, 'mari': 786, 'town': 1353, 'cannot': 188, 'beat': 105, 'mussel': 838, 'wine': 1463, 'reduct': 1058, 'better': 118, 'tigerlilli': 1331, 'afternoon': 13, 'bartend': 95, 'ambienc': 29, 'music': 837, 'play': 979, 'next': 856, 'trip': 1363, 'sooooo': 1206, 'real': 1048, 'sushi': 1285, 'lover': 763, 'honest': 656, 'yama': 1487, 'pass': 933, 'busi': 172, 'thai': 1312, 'spici': 1221, 'check': 217, 'atmospher': 62, 'kind': 733, 'steak': 1237, 'although': 25, 'sound': 1210, 'actual': 10, 'bit': 128, 'know': 734, 'manag': 781, 'blandest': 135, 'eaten': 413, 'prepar': 1002, 'indian': 692, 'cuisin': 315, 'boot': 149, 'worri': 1476, 'fine': 504, 'guy': 612, 'son': 1202, 'said': 1110, 'thought': 1324, 'ventur': 1412, 'away': 74, 'hit': 650, 'spot': 1225, 'night': 859, 'host': 662, 'lack': 736, 'word': 1472, 'bitch': 129, 'number': 871, 'reason': 1051, 'review': 1080, 'leav': 743, 'phenomen': 958, 'ambianc': 28, 'return': 1079, 'strip': 1257, 'pork': 992, 'belli': 115, 'mediocr': 795, 'penn': 948, 'vodka': 1422, 'excel': 457, 'crispi': 307, 'wrap': 1483, 'delish': 344, 'tuna': 1369, 'rude': 1103, 'nyc': 874, 'bagel': 85, 'cream': 302, 'chees': 219, 'caper': 191, 'even': 447, 'subway': 1267, 'fact': 473, 'serious': 1148, 'solid': 1195, 'bar': 92, 'extrem': 470, 'mani': 784, 'weekend': 1448, 'empti': 432, 'suggest': 1274, 'ate': 61, 'curri': 316, 'bamboo': 89, 'shoot': 1163, 'blanket': 136, 'moz': 830, 'top': 1345, 'done': 379, 'cover': 292, 'subpar': 1266, 'bathroom': 100, 'clean': 240, 'decor': 331, 'chang': 210, 'consid': 271, 'pace': 917, 'thumb': 1329, 'watch': 1439, 'pay': 941, 'ignor': 682, 'fianc': 497, 'middl': 804, 'day': 325, 'greet': 600, 'seat': 1137, 'mandalay': 782, 'bay': 102, 'forti': 531, 'five': 511, 'vain': 1399, 'crostini': 308, 'stale': 1230, 'highlight': 646, 'nigiri': 860, 'joint': 722, 'differ': 358, 'cut': 318, 'piec': 964, 'flavor': 514, 'voodoo': 1424, 'sinc': 1177, 'gluten': 574, 'free': 537, 'ago': 14, 'unfortun': 1381, 'must': 839, 'bakeri': 86, 'reloc': 1070, 'impress': 687, 'immedi': 685, 'divers': 376, 'avoid': 72, 'cost': 282, 'full': 550, 'hand': 620, 'phoenix': 961, 'metro': 800, 'area': 52, 'treat': 1359, 'bacon': 83, 'hella': 640, 'salti': 1116, 'spinach': 1223, 'avocado': 71, 'ingredi': 699, 'sad': 1107, 'liter': 752, 'zero': 1499, 'list': 751, 'khao': 731, 'soi': 1194, 'miss': 814, 'terrif': 1310, 'thrill': 1326, 'accommod': 3, 'vegetarian': 1407, 'daughter': 324, 'perhap': 953, 'caught': 204, 'inspir': 702, 'desir': 351, 'modern': 818, 'hip': 648, 'maintain': 777, 'cozi': 294, 'week': 1447, 'haunt': 630, 'sat': 1122, 'take': 1291, 'overcook': 910, 'charcoal': 212, 'decid': 329, 'send': 1145, 'verg': 1414, 'probabl': 1009, 'dirt': 363, 'someth': 1199, 'healthi': 633, 'quantiti': 1032, 'raspberri': 1040, 'ice': 680, 'incred': 691, 'interest': 706, 'crepe': 305, 'station': 1235, 'hot': 664, 'bread': 157, 'butter': 174, 'home': 653, 'chip': 226, 'origin': 898, 'egg': 423, 'gyro': 613, 'wing': 1464, 'satisfi': 1124, 'joey': 720, 'vote': 1425, 'dog': 377, 'valley': 1400, 'reader': 1047, 'magazin': 774, 'bowl': 153, 'live': 754, 'friday': 542, 'insult': 705, 'felt': 496, 'disrespect': 375, 'drive': 402, 'exceed': 456, 'hope': 659, 'dream': 395, 'serivc': 1149, 'brunch': 164, 'invit': 708, 'last': 739, 'foot': 527, 'mix': 816, 'mushroom': 836, 'yukon': 1496, 'gold': 578, 'pure': 1027, 'white': 1457, 'corn': 279, 'beateous': 106, 'bug': 167, 'show': 1167, 'given': 569, 'climb': 241, 'soon': 1204, 'tartar': 1296, 'though': 1323, 'soggi': 1193, 'jamaican': 713, 'mojito': 820, 'small': 1185, 'rich': 1087, 'accord': 5, 'shower': 1168, 'rins': 1092, 'unless': 1385, 'mind': 811, 'nude': 870, 'see': 1140, 'lobster': 755, 'bisqu': 127, 'bussel': 173, 'sprout': 1228, 'risotto': 1094, 'filet': 499, 'need': 849, 'pepper': 950, 'cours': 289, 'none': 865, 'bode': 145, 'someon': 1198, 'either': 425, 'cold': 249, 'date': 323, 'unbeliev': 1376, 'bargain': 94, 'folk': 524, 'otto': 901, 'make': 778, 'welcom': 1450, 'special': 1217, 'main': 776, 'uninspir': 1383, 'whenev': 1455, 'world': 1475, 'annoy': 34, 'drunk': 404, 'fun': 551, 'chef': 222, 'doubl': 384, 'cheeseburg': 220, 'singl': 1178, 'patti': 940, 'fall': 477, 'apart': 42, 'pictur': 963, 'upload': 1394, 'yeah': 1489, 'coupl': 287, 'sport': 1224, 'event': 448, 'tv': 1372, 'possibl': 995, 'descript': 349, 'yum': 1497, 'eel': 419, 'yet': 1494, 'mayo': 791, 'hardest': 628, 'decis': 330, 'suppos': 1282, 'eye': 471, 'stay': 1236, 'money': 822, 'flavour': 516, 'almost': 22, 'build': 168, 'freez': 538, 'close': 242, 'point': 986, 'ayc': 77, 'light': 749, 'dark': 322, 'set': 1153, 'mood': 825, 'base': 96, 'sub': 1265, 'par': 927, 'effort': 422, 'gratitud': 591, 'owner': 915, 'privileg': 1008, 'work': 1473, 'creami': 303, 'parent': 929, 'similar': 1174, 'complaint': 261, 'silent': 1173, 'pizza': 971, 'peanut': 945, 'fast': 486, 'godfath': 577, 'tough': 1351, 'short': 1165, 'stick': 1242, 'recal': 1052, 'charg': 213, 'tap': 1294, 'exquisit': 466, 'generous': 563, 'plus': 984, 'buck': 165, 'thus': 1330, 'far': 484, 'twice': 1373, 'self': 1144, 'proclaim': 1011, 'coffe': 248, 'wild': 1462, 'veggitarian': 1409, 'platter': 978, 'cant': 189, 'wrong': 1485, 'madison': 773, 'ironman': 709, 'job': 719, 'dedic': 332, 'boba': 144, 'tea': 1301, 'jenni': 716, 'patio': 938, 'outstand': 906, 'goat': 576, 'skimp': 1181, 'mac': 769, 'bachi': 81, 'stink': 1244, 'saganaki': 1109, 'hate': 629, 'disagre': 365, 'fellow': 495, 'yelper': 1493, 'later': 741, 'neighborhood': 852, 'conveni': 276, 'locat': 756, 'pull': 1024, 'soooo': 1205, 'gave': 559, 'rate': 1041, 'pleas': 980, 'third': 1320, 'write': 1484, 'stir': 1245, 'noodl': 866, 'count': 286, 'box': 154, 'bore': 150, 'greedi': 597, 'corpor': 280, 'dime': 359, 'atroci': 63, 'summer': 1277, 'charm': 214, 'outdoor': 902, 'toast': 1336, 'english': 434, 'muffin': 833, 'untoast': 1389, 'hous': 667, 'bus': 171, 'boy': 155, 'basic': 98, 'figur': 498, 'joke': 723, 'public': 1022, 'bbq': 103, 'fare': 485, 'two': 1374, 'happi': 625, 'downsid': 390, 'without': 1469, 'doubt': 385, 'except': 458, 'month': 824, 'favorit': 490, 'shawarrrrrrma': 1159, 'black': 131, 'pea': 943, 'unreal': 1387, 'vinaigrett': 1418, 'seen': 1142, 'especi': 442, 'mom': 821, 'pleasant': 981, 'honor': 657, 'hut': 678, 'coupon': 288, 'truli': 1366, 'dirti': 364, 'replenish': 1073, 'plain': 973, 'yucki': 1495, 'standard': 1231, 'omg': 888, 'delicioso': 342, 'authent': 69, 'spaghetti': 1216, 'whatsoev': 1453, 'veget': 1406, 'tucson': 1367, 'chipotl': 228, 'classi': 238, 'succul': 1268, 'basebal': 97, 'brick': 161, 'oven': 908, 'app': 44, 'multipl': 835, 'ten': 1306, 'terribl': 1309, 'equal': 441, 'pancak': 924, 'genuin': 564, 'enthusiast': 438, 'gordon': 584, 'ramsey': 1035, 'shall': 1157, 'sharpli': 1158, 'life': 748, 'door': 382, 'offer': 878, 'cool': 278, 'turn': 1371, 'els': 428, 'buy': 175, 'handl': 621, 'rowdi': 1101, 'find': 503, 'despic': 352, 'soup': 1212, 'lukewarm': 767, 'crave': 299, 'deserv': 350, 'stomach': 1246, 'ach': 7, 'rest': 1076, 'drop': 403, 'ball': 88, 'space': 1215, 'tini': 1333, 'eleg': 426, 'comfort': 256, 'usual': 1397, 'eggplant': 424, 'green': 599, 'bean': 104, 'outta': 907, 'part': 930, 'inconsider': 690, 'hi': 644, 'dinner': 361, 'outshin': 904, 'halibut': 617, 'told': 1339, 'happen': 624, 'car': 192, 'front': 544, 'starv': 1234, 'disgrac': 371, 'def': 335, 'ethic': 445, 'continu': 275, 'andddd': 32, 'anyon': 38, 'past': 934, 'stuf': 1260, 'crystal': 314, 'shop': 1164, 'mall': 779, 'aria': 54, 'summar': 1275, 'nay': 846, 'transcend': 1357, 'bring': 162, 'joy': 724, 'pneumat': 985, 'condiment': 268, 'dispens': 374, 'ian': 679, 'kid': 732, 'option': 896, 'famili': 478, 'impecc': 686, 'simpli': 1176, 'account': 6, 'screw': 1133, 'remind': 1072, 'pop': 991, 'san': 1118, 'francisco': 535, 'gourmet': 587, 'frustrat': 547, 'petti': 957, 'hungri': 675, 'assur': 60, 'teeth': 1303, 'sore': 1208, 'complet': 262, 'becom': 108, 'regular': 1065, 'profession': 1012, 'companion': 259, 'ground': 606, 'smear': 1188, 'track': 1354, 'everywher': 453, 'pile': 965, 'bird': 125, 'poop': 989, 'furthermor': 553, 'oper': 892, 'websit': 1445, 'mistak': 815, 'expert': 465, 'connisseur': 269, 'topic': 1346, 'jerk': 717, 'strike': 1255, 'rush': 1105, 'nicest': 858, 'across': 9, 'biscuit': 126, 'absolutley': 1, 'awkward': 76, 'cow': 293, 'ths': 1328, 'gristl': 603, 'fat': 487, 'steiner': 1239, 'dollar': 378, 'anyway': 41, 'fs': 548, 'combin': 253, 'pear': 946, 'almond': 21, 'big': 120, 'winner': 1465, 'spicier': 1222, 'prefer': 1001, 'ribey': 1085, 'mesquit': 799, 'anytim': 40, 'gooodd': 583, 'connoisseur': 270, 'certain': 207, 'contain': 274, 'driest': 399, 'relax': 1068, 'venu': 1413, 'group': 607, 'etc': 444, 'nargil': 844, 'tater': 1300, 'tot': 1348, 'southwest': 1214, 'paid': 919, 'vanilla': 1402, 'smooth': 1191, 'profiterol': 1013, 'choux': 231, 'pastri': 936, 'im': 683, 'az': 78, 'new': 855, 'due': 407, 'acknowledg': 8, 'forget': 529, 'margarita': 785, 'ventil': 1411, 'upgrad': 1393, 'rather': 1042, 'camelback': 186, 'flower': 520, 'cartel': 197, 'trim': 1362, 'claim': 236, 'bill': 123, 'jewel': 718, 'exact': 454, 'near': 847, 'boil': 146, 'crab': 296, 'leg': 745, 'toro': 1347, 'cavier': 206, 'extraordinari': 469, 'thin': 1317, 'slice': 1183, 'wagyu': 1427, 'truffl': 1365, 'dont': 380, 'long': 757, 'attach': 64, 'gas': 558, 'awesom': 75, 'wors': 1477, 'humili': 672, 'worker': 1474, 'bunch': 169, 'name': 842, 'call': 183, 'conclus': 267, 'fill': 500, 'daili': 320, 'tragedi': 1356, 'struck': 1258, 'crawfish': 300, 'monster': 823, 'funni': 552, 'multi': 834, 'grain': 589, 'pumpkin': 1025, 'pecan': 947, 'fluffi': 521, 'airlin': 16, 'noca': 863, 'thorough': 1322, 'homemad': 654, 'cheesecurd': 221, 'typic': 1375, 'glanc': 571, 'finger': 505, 'item': 711, 'gone': 580, 'greasi': 594, 'unhealthi': 1382, 'might': 805, 'deliveri': 346, 'man': 780, 'apolog': 43, 'expens': 462, 'pack': 918, 'tiramisu': 1335, 'cannoli': 187, 'sun': 1278, 'whole': 1458, 'choos': 230, 'frenchman': 539, 'opinion': 893, 'entre': 440, 'gc': 560, 'sampl': 1117, 'thirti': 1321, 'vacant': 1398, 'yellowtail': 1492, 'carpaccio': 195, 'stranger': 1251, 'hello': 641, 'strang': 1250, 'boyfriend': 156, 'recent': 1054, 'donut': 381, 'save': 1127, 'room': 1098, 'mayb': 790, 'howev': 668, 'particular': 932, 'suffer': 1271, 'tapa': 1295, 'vinegrett': 1419, 'babi': 80, 'palm': 922, 'believ': 113, 'hanker': 623, 'forth': 530, 'theft': 1315, 'eew': 420, 'overhaul': 911, 'wit': 1468, 'guest': 611, 'super': 1281, 'swung': 1287, 'deepli': 334, 'effici': 421, 'fan': 481, 'sucker': 1270, 'dri': 398, 'cheap': 215, 'oliv': 886, 'perpar': 954, 'present': 1003, 'giant': 566, 'dust': 409, 'powder': 999, 'sugar': 1272, 'fo': 522, 'accomod': 4, 'vegan': 1405, 'veggi': 1408, 'crumbi': 311, 'pale': 921, 'color': 252, 'instead': 704, 'crouton': 309, 'crema': 304, 'caf': 179, 'expand': 460, 'wish': 1467, 'philadelphia': 959, 'sit': 1179, 'fair': 475, 'crisp': 306, 'north': 867, 'scottsdal': 1131, 'soooooo': 1207, 'freak': 536, 'paper': 926, 'reheat': 1066, 'ok': 883, 'wedg': 1446, 'sorri': 1209, 'tongu': 1342, 'cheek': 218, 'bloodi': 139, 'despit': 353, 'yellow': 1491, 'saffron': 1108, 'thru': 1327, 'mean': 793, 'half': 616, 'somehow': 1197, 'luck': 765, 'non': 864, 'focus': 523, 'grandmoth': 590, 'hostess': 663, 'four': 534, 'blue': 143, 'shirt': 1160, 'vibe': 1417, 'drastic': 393, 'caesar': 178, 'madhous': 772, 'proven': 1019, 'dead': 326, 'greatest': 596, 'macaron': 770, 'insan': 700, 'inform': 698, 'somewhat': 1201, 'edibl': 416, 'promis': 1015, 'fail': 474, 'deliv': 345, 'averag': 70, 'plater': 977, 'togeth': 1338, 'construct': 273, 'italian': 710, 'scream': 1132, 'legit': 746, 'book': 148, 'somethat': 1200, 'duo': 408, 'violinist': 1420, 'song': 1203, 'request': 1074, 'baklava': 87, 'falafel': 476, 'baba': 79, 'ganoush': 555, 'mgm': 802, 'courteous': 291, 'eclect': 414, 'onion': 890, 'ring': 1091, 'nobu': 862, 'googl': 582, 'smashburg': 1187, 'gem': 561, 'plantain': 974, 'spend': 1219, 'panna': 925, 'cotta': 284, 'slaw': 1182, 'drench': 396, 'piano': 962, 'soundtrack': 1211, 'rge': 1082, 'fillet': 501, 'relleno': 1069, 'plate': 976, 'sergeant': 1147, 'auju': 68, 'hawaiian': 631, 'breez': 160, 'mango': 783, 'magic': 775, 'pineappl': 967, 'smoothi': 1192, 'mortifi': 826, 'needless': 850, 'drip': 401, 'most': 827, 'hospit': 661, 'industri': 695, 'paradis': 928, 'refrain': 1060, 'cibo': 234, 'longer': 758, 'famous': 480, 'read': 1046, 'pros': 1018, 'simpl': 1175, 'dough': 387, 'tonight': 1343, 'elk': 427, 'hook': 658, 'classic': 239, 'quaint': 1029, 'compliment': 263, 'thank': 1313, 'dylan': 410, 'tummi': 1368, 'gratuiti': 592, 'fli': 517, 'appl': 50, 'juic': 726, 'han': 619, 'nan': 843, 'bare': 93, 'ryan': 1106, 'edinburgh': 417, 'revisit': 1081, 'chines': 225, 'naan': 840, 'pine': 966, 'nut': 872, 'airport': 17, 'speedi': 1218, 'calligraphi': 184, 'anyth': 39, 'complain': 260, 'stood': 1247, 'begin': 111, 'open': 891, 'extens': 467, 'wide': 1459, 'array': 56, 'inflat': 697, 'smaller': 1186, 'grow': 608, 'rapid': 1038, 'fuzzi': 554, 'fabul': 472, 'wonton': 1471, 'thick': 1316, 'spice': 1220, 'whelm': 1454, 'crowd': 310, 'older': 885, 'mid': 803, 'arepa': 53, 'jalapeno': 712, 'that': 1314, 'shoe': 1162, 'defin': 336, 'block': 137, 'low': 764, 'key': 730, 'fanci': 482, 'afford': 12, 'sour': 1213, 'sunday': 1279, 'tradit': 1355, 'hunan': 674, 'style': 1263, 'bother': 151, 'flair': 512, 'nutshel': 873, 'restaraunt': 1077, 'sewer': 1155, 'girlfriend': 567, 'veal': 1403, 'satifi': 1123, 'join': 721, 'club': 243, 'via': 1416, 'email': 430, 'case': 198, 'colder': 250, 'flavorless': 515, 'describ': 348, 'tepid': 1308, 'chain': 209, 'easili': 411, 'nacho': 841, 'crazi': 301, 'juri': 727, 'court': 290, 'wienerschnitzel': 1460, 'idea': 681, 'herea': 643, 'tribut': 1361, 'held': 638, 'salsa': 1114, 'pissd': 969, 'surpris': 1284, 'golden': 579, 'fell': 493, 'devin': 356, 'employe': 431, 'mozzarella': 831, 'neglig': 851, 'unwelcom': 1390, 'consist': 272, 'fruit': 546, 'peach': 944, 'offici': 879, 'blown': 142, 'put': 1028, 'plastic': 975, 'oppos': 895, 'cram': 297, 'takeout': 1292, 'cr': 295, 'pe': 942, 'delic': 340, 'aw': 73, 'kabuki': 728, 'maria': 787, 'articl': 58, 'fuck': 549, 'caballero': 177, 'head': 632, 'oyster': 916, 'round': 1100, 'disbelief': 369, 'qualifi': 1030, 'version': 1415, 'toler': 1340, 'polit': 988, 'wash': 1437, 'otherwis': 900, 'heat': 636, 'coconut': 246, 'fella': 494, 'huevo': 669, 'ranchero': 1037, 'appeal': 47, 'pricey': 1006, 'temp': 1305, 'glove': 573, 'deep': 333, 'oil': 882, 'pleasur': 982, 'plethora': 983, 'seal': 1135, 'approv': 51, 'colleg': 251, 'class': 237, 'start': 1233, 'edit': 418, 'besid': 116, 'costco': 283, 'uniqu': 1384, 'weird': 1449, 'groceri': 604, 'store': 1249, 'japanes': 714, 'dude': 406, 'doughi': 388, 'inch': 688, 'wire': 1466, 'albondiga': 19, 'tomato': 1341, 'three': 1325, 'occas': 876, 'bloodiest': 140, 'refus': 1063, 'anymor': 37, 'chai': 208, 'allergi': 20, 'warn': 1436, 'clue': 244, 'rotat': 1099, 'concern': 266, 'strawberri': 1252, 'unprofession': 1386, 'patron': 939, 'occasion': 877, 'pat': 937, 'bellagio': 114, 'anticip': 36, 'weak': 1444, 'correct': 281, 'sal': 1111, 'fav': 488, 'unexperienc': 1380, 'steakhous': 1238, 'proper': 1017, 'understand': 1378, 'concept': 265, 'guacamol': 609, 'pur': 1026, 'ed': 415, 'postino': 996, 'poison': 987, 'batch': 99, 'yay': 1488, 'hilari': 647, 'christma': 233, 'eve': 446, 'rememb': 1071, 'biggest': 122, 'entir': 439, 'teamwork': 1302, 'degre': 338, 'ri': 1083, 'calamari': 182, 'fondu': 525, 'lost': 760, 'forev': 528, 'scene': 1130, 'denni': 347, 'downright': 389, 'waaaaaayyyyyyyyyi': 1426, 'sangria': 1120, 'glass': 572, 'ridicul': 1089, 'neat': 848, 'trippi': 1364, 'hurri': 676, 'reserv': 1075, 'stretch': 1254, 'cashew': 200, 'undercook': 1377, 'chipolt': 227, 'ranch': 1036, 'dip': 362, 'saus': 1126, 'douchey': 386, 'indoor': 694, 'garden': 556, 'con': 264, 'spotti': 1226, 'neither': 853, 'ensu': 437, 'bing': 124, 'carb': 193, 'profound': 1014, 'deuchebaggeri': 355, 'smoke': 1190, 'solidifi': 1196, 'ala': 18, 'cart': 196, 'blame': 133, 'del': 339, 'hamburg': 618, 'hell': 639, 'gotten': 586, 'ya': 1486, 'shot': 1166, 'firebal': 507, 'disapppoint': 367, 'heimer': 637, 'caus': 205, 'own': 914, 'vomit': 1423, 'circumst': 235, 'obvious': 875, 'movi': 829, 'ha': 614, 'flop': 519, 'problem': 1010, 'bigger': 121, 'unwrap': 1391, 'mile': 806, 'mirag': 813, 'refri': 1062, 'crusti': 313, 'caterpillar': 203, 'appetit': 49, 'instant': 703, 'ninja': 861, 'pour': 998, 'wound': 1481, 'draw': 394}\n"
     ]
    }
   ],
   "source": [
    "print('Vocabulary: ')\n",
    "print(cv.vocabulary_)\n",
    "### cv에 있는 단어들과 들어있는 순서를 의미합니다.(다시 알파벳으로  ordering을 합니다.)"
   ]
  },
  {
   "cell_type": "markdown",
   "id": "6d1d6201-566f-4649-afb3-acca878cab62",
   "metadata": {},
   "source": [
    "#####  [참고 3] 두개의 새로운 문장을 리뷰들로 fit했던 단어들을 vectorizer로 변형시킵니다.\n",
    "##### >>> X = cv.transform(['A whole new text zzzzzzzzz', 'Something very new new new phrase uh ?'])\n",
    "\n",
    "##### >>> print X\n",
    "(0, 855)\t1 \\\n",
    "(0, 13428)\t1 \\\n",
    "(0, 14844)\t1 \\\n",
    "(0, 15164)\t1 \\\n",
    "(1, 855)\t3 \\\n",
    "(1, 9807)\t1 \\\n",
    "(1, 12374)\t1 \\\n",
    "(1, 13980)\t1 \\\n",
    "(1, 14482)\t1 \n",
    "\n",
    "##### 해석) \n",
    "- 입력됐던 문장들이 sparse matrix형태로 변형됩니다. \n",
    "    - 앞의 tuple은 (i번째 document, j번째 단어(cv.vocabury에서 확인)를 의미하고, 더 쉽게 설명하면, i번째 문서에서, 전체의 단어빈도수 기준으로  j번째 단어를 의미합니다. \n",
    "    - int값은 등장 횟수를 의미합니다. \n",
    "- matrix이다보니 숫자로만 index가 되어 무엇을 의미하는지는 헷갈리실 수 있습니다. "
   ]
  },
  {
   "cell_type": "markdown",
   "id": "a22ed3a8-966b-480d-a946-9a4e83336c18",
   "metadata": {},
   "source": [
    "#####  [참고 4]  fit 과 transform을 한 코드로 만들 수 있습니다. \n",
    "- fit함수를 통해서 각 리뷰들을 대입합니다.\n",
    "- 두개의 새로운 문장을 --> fit(단어그대로) --> transform (vectorizer)로 변형시킵니다.\n",
    "- 먼저 fit 명령어를 통해서 text 변수 \n",
    "    - (위의 설명에서....### fit 함수를 통해서 각 리뷰들을 대입합니다. (단어 그대로 사용해서) 벡터로 만들어 줍니다.)\n",
    "- transform 명령어를 통해서 vectorizer로 \n",
    "\n",
    "\n",
    "- 따로 따로\n",
    "    - cv.fit(corpus)\n",
    "    - cv.transform(corpus)\n",
    "- 한번에\n",
    "    -  x_1 =cv.fit_transform(corpus)"
   ]
  },
  {
   "cell_type": "code",
   "execution_count": 34,
   "id": "fed40f96-fc25-4364-8419-d32a5f478350",
   "metadata": {},
   "outputs": [],
   "source": [
    "x_1 =cv.fit_transform(corpus)"
   ]
  },
  {
   "cell_type": "code",
   "execution_count": 61,
   "id": "c40940b2-5cc1-45c6-9ad5-f3070586b911",
   "metadata": {},
   "outputs": [
    {
     "name": "stdout",
     "output_type": "stream",
     "text": [
      "Full vector: \n",
      "[[0 0 0 ... 0 0 0]\n",
      " [0 0 0 ... 0 0 0]\n",
      " [0 0 0 ... 0 0 0]\n",
      " ...\n",
      " [0 0 0 ... 0 0 0]\n",
      " [0 0 0 ... 0 0 0]\n",
      " [0 0 0 ... 0 0 0]]\n"
     ]
    }
   ],
   "source": [
    "### Our final vector:\n",
    "print('Full vector: ')\n",
    "print(x_1.toarray())\n",
    "### 한 행은 한 문서입니다. 여기서 한 문장, 한 row입니다.\n",
    "### 각 열(featrues, column)은 단어를 의미합니다. \n",
    "### 여기서는 빈도수가 높은 1500개의 단어를 기준으로 값을 표현한 것입니다. \n",
    "### 그것을 다시 알파벳으로 ordering 합니다.\n",
    "### 값이 0 해당 문장에 단어가 없다는 의미입니다. "
   ]
  },
  {
   "cell_type": "code",
   "execution_count": 62,
   "id": "9cb5d94a-072b-4dd0-9a57-848ad4616b58",
   "metadata": {},
   "outputs": [
    {
     "data": {
      "text/plain": [
       "(1000, 1500)"
      ]
     },
     "execution_count": 62,
     "metadata": {},
     "output_type": "execute_result"
    }
   ],
   "source": [
    "x_1.shape\n",
    "### 1000 개의 reviews를 1500개의 단어로 표현합니다."
   ]
  },
  {
   "cell_type": "code",
   "execution_count": 63,
   "id": "d194513e-0031-4edd-99d3-f771e9e01f07",
   "metadata": {},
   "outputs": [
    {
     "name": "stdout",
     "output_type": "stream",
     "text": [
      "absolut vector: \n",
      "[[1 0 0 ... 0 0 0]]\n",
      "wow vector: \n",
      "[[0 0 0 ... 0 0 0]]\n"
     ]
    }
   ],
   "source": [
    "### Or if we wanted to get the vector for one word:\n",
    "print('absolut vector: ')\n",
    "print(cv.transform(['absolut']).toarray())\n",
    "\n",
    "print('wow vector: ')\n",
    "print(cv.transform(['wow']).toarray())\n",
    "### max_features=1500 개 이므로, wow는 그 중 wow가 해당하는 곳에 1로 변형될 것입니다.\n",
    "\n",
    "### one-hot encoding 개념입니다."
   ]
  },
  {
   "cell_type": "code",
   "execution_count": 64,
   "id": "2331ce67-7618-40b6-aab1-50ba3b5168a6",
   "metadata": {},
   "outputs": [
    {
     "name": "stdout",
     "output_type": "stream",
     "text": [
      "absolut and wow and love: \n",
      "[[1 0 0 ... 0 0 0]\n",
      " [0 0 0 ... 0 0 0]\n",
      " [0 0 0 ... 0 0 0]]\n"
     ]
    }
   ],
   "source": [
    "### Or if we wanted to get multiple vectors at once to build matrices\n",
    "print('absolut and wow and love: ')\n",
    "print(cv.transform(['absolut','wow', 'love']).toarray())"
   ]
  },
  {
   "cell_type": "markdown",
   "id": "a4dc2f1b-665e-4fcf-bff2-4a13b5f60228",
   "metadata": {},
   "source": [
    "#####  [참고 5]  + toarray() 까지 한번에!!\n",
    "- We could also do the whole thing at once with the fit_transform method:\n",
    "    - print('One swoop:')\n",
    "    - new_text = ['Today is the day that I do the thing today, today']\n",
    "    - new_vectorizer = CountVectorizer()\n",
    "    - print(new_vectorizer.fit_transform(new_text).toarray())\n",
    "\n",
    "\n",
    "- 해석)\n",
    "    - fit함수를 통해서 각 리뷰(텍스트 기반 텍스트: 빈도수)들을 대입합니다.\n",
    "    - 두개의 새로운 문장을 리뷰들로 fit했던 것을  transform 를 통해 vectorizer로 변형시킵니다.\n",
    "    - 먼저 fit 명령어를 통해서 text 변수에 저장된 데이터를 학습시켜줘야 합니다.\n",
    "    "
   ]
  },
  {
   "cell_type": "code",
   "execution_count": 39,
   "id": "804c9b26-14e3-488b-8d01-27c4f6a793e5",
   "metadata": {},
   "outputs": [],
   "source": [
    "x = cv.fit_transform(corpus)"
   ]
  },
  {
   "cell_type": "code",
   "execution_count": 40,
   "id": "4b0243ec-0127-4fdc-b135-566a989dcdc1",
   "metadata": {},
   "outputs": [
    {
     "data": {
      "text/plain": [
       "<1000x1500 sparse matrix of type '<class 'numpy.int64'>'\n",
       "\twith 5324 stored elements in Compressed Sparse Row format>"
      ]
     },
     "execution_count": 40,
     "metadata": {},
     "output_type": "execute_result"
    }
   ],
   "source": [
    "x\n",
    "### 1000 개의 review에 대해서 one-hot encoding 적용해서 vector화 합니다."
   ]
  },
  {
   "cell_type": "code",
   "execution_count": 41,
   "id": "befd48a7-88a6-4cf0-9fca-7b3143a026ab",
   "metadata": {},
   "outputs": [],
   "source": [
    "x = cv.fit_transform(corpus).toarray()\n",
    "### corpus에 들어있는 문장. 즉, 전처리 후에 들어 있는 문장을 의미합니다."
   ]
  },
  {
   "cell_type": "code",
   "execution_count": 42,
   "id": "0c8ebf8c-1ea2-4e04-b61e-8fa8f37ffbdf",
   "metadata": {},
   "outputs": [
    {
     "name": "stdout",
     "output_type": "stream",
     "text": [
      "[[0 0 0 ... 0 0 0]\n",
      " [0 0 0 ... 0 0 0]\n",
      " [0 0 0 ... 0 0 0]\n",
      " ...\n",
      " [0 0 0 ... 0 0 0]\n",
      " [0 0 0 ... 0 0 0]\n",
      " [0 0 0 ... 0 0 0]]\n"
     ]
    }
   ],
   "source": [
    "print(x)"
   ]
  },
  {
   "cell_type": "code",
   "execution_count": 43,
   "id": "78763d00-93e1-47de-bdc4-c03bf5db9294",
   "metadata": {},
   "outputs": [
    {
     "data": {
      "text/plain": [
       "(1000, 1500)"
      ]
     },
     "execution_count": 43,
     "metadata": {},
     "output_type": "execute_result"
    }
   ],
   "source": [
    "x.shape\n",
    "### (row, column): 데이터 확인\n",
    "### 벡터의 모양\n",
    "### 1000개의 문장, 1500개 단어로 구성"
   ]
  },
  {
   "cell_type": "code",
   "execution_count": 44,
   "id": "53d5a9f0-b10a-4a15-9e61-00f099f930cd",
   "metadata": {},
   "outputs": [],
   "source": [
    "y = dataset['Liked'].values"
   ]
  },
  {
   "cell_type": "code",
   "execution_count": 45,
   "id": "1c6e996a-63ce-476a-a7ef-2147aa8da9d8",
   "metadata": {},
   "outputs": [
    {
     "name": "stdout",
     "output_type": "stream",
     "text": [
      "[1 0 0 1 1 0 0 0 1 1 1 0 0 1 0 0 1 0 0 0 0 1 1 1 1 1 0 1 0 0 1 0 1 0 1 1 1\n",
      " 0 1 0 1 0 0 1 0 1 0 1 1 1 1 1 1 0 1 1 0 0 1 0 0 1 1 1 1 1 1 1 0 1 1 1 0 0\n",
      " 0 0 0 1 1 0 0 0 0 1 0 1 0 1 1 1 0 1 0 1 0 0 1 1 0 1 1 1 1 1 1 1 1 1 1 1 0\n",
      " 0 1 1 1 1 0 0 0 0 0 0 1 1 1 0 0 1 0 1 0 1 1 0 1 1 1 1 0 1 0 0 0 0 1 1 0 0\n",
      " 0 0 1 1 0 0 1 1 1 1 1 0 0 1 1 0 1 1 1 0 0 1 0 1 1 1 1 0 0 1 1 0 0 0 0 0 1\n",
      " 1 0 1 1 1 1 1 0 1 0 1 0 0 1 1 1 1 0 1 1 1 0 0 0 1 0 0 1 0 1 1 0 1 0 1 0 0\n",
      " 0 0 0 1 1 1 0 1 1 0 1 0 1 0 0 1 0 1 0 1 0 0 0 0 1 1 1 0 1 0 1 0 1 1 1 0 1\n",
      " 0 1 0 1 1 1 1 0 1 1 0 1 1 1 1 1 0 1 1 0 0 1 0 0 0 1 1 0 0 1 0 0 0 1 0 1 1\n",
      " 0 1 0 1 1 0 0 0 1 0 0 0 1 1 1 0 1 0 1 0 0 1 1 1 0 0 1 1 1 1 1 1 0 0 0 1 1\n",
      " 0 1 1 0 0 1 0 0 1 1 1 0 1 1 1 1 1 0 0 1 0 1 1 0 1 1 1 0 1 1 0 1 0 0 1 1 1\n",
      " 0 0 1 1 0 1 0 1 0 0 0 1 1 0 0 0 1 0 0 1 1 1 1 1 1 1 0 1 1 1 0 0 0 1 1 0 1\n",
      " 1 1 0 1 1 0 1 0 0 0 1 1 1 1 0 0 0 0 1 1 0 0 1 0 1 1 0 1 0 1 1 1 1 0 1 1 0\n",
      " 1 1 0 0 1 1 0 1 0 0 0 0 1 1 1 1 0 1 1 0 1 1 0 0 1 1 1 0 1 0 0 0 1 1 1 1 0\n",
      " 1 0 0 1 1 1 0 0 1 1 1 0 1 1 0 1 1 1 1 1 0 1 1 1 0 0 0 0 0 1 1 1 1 1 1 0 1\n",
      " 0 1 1 1 0 0 1 0 0 1 1 1 1 1 1 1 0 1 0 1 0 1 1 0 1 0 0 1 1 0 0 1 1 1 1 0 0\n",
      " 0 0 0 1 1 0 0 1 1 1 0 0 1 0 0 0 0 0 1 1 0 0 1 1 1 0 0 0 1 0 1 1 0 1 0 1 1\n",
      " 1 0 0 1 0 1 1 0 1 0 1 1 1 1 1 0 1 0 0 0 0 0 1 1 0 0 1 0 0 0 1 0 1 1 0 0 0\n",
      " 1 1 1 0 1 0 1 0 1 0 1 1 0 1 0 0 0 0 0 1 0 0 1 1 0 1 0 1 1 1 1 1 1 1 1 1 1\n",
      " 1 1 1 0 0 1 0 1 1 1 1 0 1 0 1 0 1 1 1 0 1 1 1 1 1 0 1 1 1 0 0 0 0 0 0 0 1\n",
      " 1 1 0 1 0 1 0 1 0 1 0 1 1 1 0 1 0 1 1 1 1 1 1 1 0 1 1 0 0 1 1 1 0 0 1 1 1\n",
      " 1 0 0 0 0 1 1 1 0 1 1 1 1 1 0 1 0 1 1 0 1 0 0 0 1 0 1 1 1 1 0 1 0 0 1 0 1\n",
      " 0 0 0 1 1 1 0 0 1 0 1 1 1 1 0 0 1 0 1 1 1 0 1 0 1 0 1 1 0 1 0 1 1 0 0 0 0\n",
      " 1 1 0 1 0 0 0 0 1 1 0 0 0 0 0 0 0 0 0 1 1 0 1 0 0 1 0 1 1 0 0 0 0 1 0 0 1\n",
      " 0 1 1 0 0 1 1 0 0 1 1 0 1 1 1 1 1 1 0 0 0 1 1 0 0 0 1 1 0 0 0 1 0 0 0 0 0\n",
      " 1 0 1 1 0 0 1 1 1 1 0 1 0 1 0 0 0 0 0 1 0 1 0 0 0 0 0 0 0 0 0 0 0 0 1 0 0\n",
      " 0 0 0 0 0 0 0 0 0 0 0 0 0 0 0 0 0 0 0 0 0 0 0 0 0 0 0 0 0 0 0 0 0 0 0 0 0\n",
      " 0 0 0 0 0 0 0 0 0 0 0 0 0 0 0 0 0 0 0 0 0 0 0 0 0 0 0 0 0 0 0 0 0 0 0 0 0\n",
      " 0]\n"
     ]
    }
   ],
   "source": [
    "print(y)\n",
    "### 1000개의 값(value)가 저장되어 있습니다."
   ]
  },
  {
   "cell_type": "code",
   "execution_count": 46,
   "id": "fec4bf65-c740-4b30-b956-36c43e1d457d",
   "metadata": {},
   "outputs": [
    {
     "data": {
      "text/plain": [
       "(1000,)"
      ]
     },
     "execution_count": 46,
     "metadata": {},
     "output_type": "execute_result"
    }
   ],
   "source": [
    "y.shape"
   ]
  },
  {
   "cell_type": "markdown",
   "id": "dc6fbf25-1949-4296-87ab-e884ed717251",
   "metadata": {},
   "source": [
    "    0. Problem Define \n",
    "    1. Library import\n",
    "    2. Data Collection\n",
    "    3. EDA(Exploratory Data Analysis) : 데이터 탐색\n",
    "    4. Preprocessing\n",
    "        - 4.1 Stemmer \n",
    "        - 4.2 Bag of Words : 문장별 단어 벡터 만들기\n",
    "        - 4.3 Train : Test 로 나누기\n",
    "    5. Modeling"
   ]
  },
  {
   "cell_type": "markdown",
   "id": "548d6b72-8629-4529-a730-567e32e258a4",
   "metadata": {},
   "source": [
    "#### [4-3 데이터 셋 나누기] Train vs. Test"
   ]
  },
  {
   "cell_type": "code",
   "execution_count": 65,
   "id": "37638f3b-cb9a-43af-9d3a-783e0747232b",
   "metadata": {},
   "outputs": [],
   "source": [
    "from sklearn.model_selection import train_test_split"
   ]
  },
  {
   "cell_type": "code",
   "execution_count": 66,
   "id": "e3943b92-a50c-44f3-a853-a021da1ca860",
   "metadata": {},
   "outputs": [],
   "source": [
    "x_train,x_test,y_train,y_test = train_test_split(x,y,test_size = 0.2,random_state = 17)\n",
    "#train : test = 8:2\n",
    "#같은 랜덤 초기값 사용 같은 랜덤 데이터 추출 옵션 "
   ]
  },
  {
   "cell_type": "markdown",
   "id": "590f7bd2-9a5b-4af1-bf9f-9946b667b6af",
   "metadata": {},
   "source": [
    "#### [5 Modeling]"
   ]
  },
  {
   "cell_type": "code",
   "execution_count": 67,
   "id": "db7db1b6-8987-4642-ad3b-239e12f3a055",
   "metadata": {},
   "outputs": [],
   "source": [
    "from sklearn.ensemble import RandomForestClassifier"
   ]
  },
  {
   "cell_type": "code",
   "execution_count": 68,
   "id": "9952ed0a-09a2-45a3-80cb-f1618693cecb",
   "metadata": {},
   "outputs": [],
   "source": [
    "rf = RandomForestClassifier(n_estimators=800) \n",
    "### 트리 800개로 구성된 랜덤 포레스트를 만든다.  \n",
    "### 즉, 숲을 만들 때 나무의 개수를 의미한다.\n",
    "### random forest 는 수많은 작은 decision tree가 모여서 생성된다. "
   ]
  },
  {
   "cell_type": "markdown",
   "id": "4aa06a35-3574-47f8-b3c2-14a84726fc19",
   "metadata": {},
   "source": [
    "##### Training the classifier"
   ]
  },
  {
   "cell_type": "code",
   "execution_count": 69,
   "id": "7219a4bd-132c-40ff-88aa-735a6ea31740",
   "metadata": {},
   "outputs": [
    {
     "data": {
      "text/plain": [
       "RandomForestClassifier(n_estimators=800)"
      ]
     },
     "execution_count": 69,
     "metadata": {},
     "output_type": "execute_result"
    }
   ],
   "source": [
    "rf.fit(x_train,y_train)"
   ]
  },
  {
   "cell_type": "markdown",
   "id": "dede3bc9-4d82-4092-bfe5-274830f3ea89",
   "metadata": {},
   "source": [
    "##### Making Predictions"
   ]
  },
  {
   "cell_type": "code",
   "execution_count": 70,
   "id": "30f74c5a-3d5c-4aac-b3f6-b291bd14a11e",
   "metadata": {},
   "outputs": [],
   "source": [
    "y_train_pred = rf.predict(x_train)"
   ]
  },
  {
   "cell_type": "code",
   "execution_count": 71,
   "id": "a8b95b4c-9ead-4610-a3ef-e073af3d9057",
   "metadata": {},
   "outputs": [],
   "source": [
    "y_pred = rf.predict(x_test)"
   ]
  },
  {
   "cell_type": "markdown",
   "id": "14dc4710-8b14-4012-961e-ec88c3c3007d",
   "metadata": {},
   "source": [
    "##### Evaluating Predictions"
   ]
  },
  {
   "cell_type": "code",
   "execution_count": 72,
   "id": "87c7eb2e-5bd8-4a27-ab6a-4de645d10d66",
   "metadata": {},
   "outputs": [],
   "source": [
    "from sklearn.metrics import classification_report,confusion_matrix,accuracy_score\n",
    "#confusion matrix"
   ]
  },
  {
   "cell_type": "code",
   "execution_count": 73,
   "id": "303c9ceb-4b48-4ca8-9da8-ce6a83597699",
   "metadata": {},
   "outputs": [
    {
     "data": {
      "text/plain": [
       "array([[73, 22],\n",
       "       [36, 69]], dtype=int64)"
      ]
     },
     "execution_count": 73,
     "metadata": {},
     "output_type": "execute_result"
    }
   ],
   "source": [
    "confusion_matrix(y_test,y_pred)\n",
    "#    + -\n",
    "# + \n",
    "# - \n",
    "#? confusion_matrix"
   ]
  },
  {
   "cell_type": "code",
   "execution_count": 74,
   "id": "87f56c07-a8fa-4a1d-93ab-28188d7487bf",
   "metadata": {},
   "outputs": [
    {
     "name": "stdout",
     "output_type": "stream",
     "text": [
      "              precision    recall  f1-score   support\n",
      "\n",
      "           0       0.67      0.77      0.72        95\n",
      "           1       0.76      0.66      0.70       105\n",
      "\n",
      "    accuracy                           0.71       200\n",
      "   macro avg       0.71      0.71      0.71       200\n",
      "weighted avg       0.72      0.71      0.71       200\n",
      "\n"
     ]
    }
   ],
   "source": [
    "print(classification_report(y_test,y_pred))"
   ]
  },
  {
   "cell_type": "code",
   "execution_count": 75,
   "id": "1336cabc-4f28-4b89-a120-a3fb84e19060",
   "metadata": {},
   "outputs": [
    {
     "name": "stdout",
     "output_type": "stream",
     "text": [
      "Traning Accuracy ---> 0.99875\n",
      "Testing Accuracy ---> 0.71\n"
     ]
    }
   ],
   "source": [
    "print('Traning Accuracy --->',accuracy_score(y_train,y_train_pred))\n",
    "print('Testing Accuracy --->',accuracy_score(y_test,y_pred))"
   ]
  },
  {
   "cell_type": "code",
   "execution_count": null,
   "id": "6f07ac51-9bdb-4bad-b082-2b6d57591ac5",
   "metadata": {},
   "outputs": [],
   "source": []
  }
 ],
 "metadata": {
  "kernelspec": {
   "display_name": "Python 3 (ipykernel)",
   "language": "python",
   "name": "python3"
  },
  "language_info": {
   "codemirror_mode": {
    "name": "ipython",
    "version": 3
   },
   "file_extension": ".py",
   "mimetype": "text/x-python",
   "name": "python",
   "nbconvert_exporter": "python",
   "pygments_lexer": "ipython3",
   "version": "3.11.5"
  }
 },
 "nbformat": 4,
 "nbformat_minor": 5
}
