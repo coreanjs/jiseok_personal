{
 "cells": [
  {
   "cell_type": "markdown",
   "id": "3f9dda3d-9fa4-43ba-a185-e38f84e26978",
   "metadata": {},
   "source": [
    "### Machine Learning-based Data Analysis\n",
    "#### Minseo Park"
   ]
  },
  {
   "cell_type": "markdown",
   "id": "4213f1a6-ed99-4e18-b061-0b5f8962ed2f",
   "metadata": {},
   "source": [
    "### [Practice 3] : UnSupervised Learning"
   ]
  },
  {
   "cell_type": "markdown",
   "id": "8bdf12ae-05a7-4bab-b11d-85b6cef76895",
   "metadata": {},
   "source": [
    "    0. Problem Define\n",
    "    1. Library import\n",
    "    2. Data upload\n",
    "    3. EDA(Exploratory Data Analysis) : 데이터 탐색\n",
    "    4. 데이터 전처리\n",
    "        - 4.1  Feature selection for the model\n",
    "    5. 모델링 :: K-Means Algorithm\n",
    "        - 5.1 Building the Model: finding out optimal k \n",
    "        - 5.2 Visualizating the ELBOW method to get the optimal value of K\n",
    "        - 5.3 Building K-Means ALgorithm\n",
    "        - 5.4 Visualizing all the clusters "
   ]
  },
  {
   "cell_type": "markdown",
   "id": "542cd6d4-0fac-4587-9d1f-8da1728deac5",
   "metadata": {},
   "source": [
    "#### [0]: Problem Define"
   ]
  },
  {
   "cell_type": "markdown",
   "id": "570583a7-1534-4bfc-a768-f39c03554bab",
   "metadata": {},
   "source": [
    "쇼핑몰 고객 그룹핑\n",
    "- Data: Kaggle (https://www.kaggle.com/vjchoudhary7/customer-segmentation-tutorial-in-python)"
   ]
  },
  {
   "cell_type": "markdown",
   "id": "4387dc01-d0f6-40af-8f09-06c689d7146e",
   "metadata": {},
   "source": [
    "#### 1. Libraries setteting : import libraries "
   ]
  },
  {
   "cell_type": "code",
   "execution_count": 2,
   "id": "17bfa994-8c4c-489a-bc6e-1b45d4f50725",
   "metadata": {},
   "outputs": [],
   "source": [
    "import numpy as np # linear algebra\n",
    "import pandas as pd # data processing\n",
    "import matplotlib.pyplot as plt # visualization\n",
    "import seaborn as sns #visualization\n",
    "from sklearn.cluster import KMeans"
   ]
  },
  {
   "cell_type": "markdown",
   "id": "f19c392e-4bf0-4a5a-8bcb-f41fd95bad4f",
   "metadata": {},
   "source": [
    "#### 2. Data Upload"
   ]
  },
  {
   "cell_type": "code",
   "execution_count": 3,
   "id": "afdd144c-3b81-467e-a54a-55f425142d56",
   "metadata": {},
   "outputs": [],
   "source": [
    "#import the dataset\n",
    "dataset = pd.read_csv('./data/Mall_Customers.csv')"
   ]
  },
  {
   "cell_type": "code",
   "execution_count": 4,
   "id": "88056fba-372e-4bb7-bc40-c36426ff8ad1",
   "metadata": {},
   "outputs": [
    {
     "data": {
      "text/html": [
       "<div>\n",
       "<style scoped>\n",
       "    .dataframe tbody tr th:only-of-type {\n",
       "        vertical-align: middle;\n",
       "    }\n",
       "\n",
       "    .dataframe tbody tr th {\n",
       "        vertical-align: top;\n",
       "    }\n",
       "\n",
       "    .dataframe thead th {\n",
       "        text-align: right;\n",
       "    }\n",
       "</style>\n",
       "<table border=\"1\" class=\"dataframe\">\n",
       "  <thead>\n",
       "    <tr style=\"text-align: right;\">\n",
       "      <th></th>\n",
       "      <th>CustomerID</th>\n",
       "      <th>Gender</th>\n",
       "      <th>Age</th>\n",
       "      <th>Annual Income (k$)</th>\n",
       "      <th>Spending Score (1-100)</th>\n",
       "    </tr>\n",
       "  </thead>\n",
       "  <tbody>\n",
       "    <tr>\n",
       "      <th>0</th>\n",
       "      <td>1</td>\n",
       "      <td>Male</td>\n",
       "      <td>19</td>\n",
       "      <td>15</td>\n",
       "      <td>39</td>\n",
       "    </tr>\n",
       "    <tr>\n",
       "      <th>1</th>\n",
       "      <td>2</td>\n",
       "      <td>Male</td>\n",
       "      <td>21</td>\n",
       "      <td>15</td>\n",
       "      <td>81</td>\n",
       "    </tr>\n",
       "    <tr>\n",
       "      <th>2</th>\n",
       "      <td>3</td>\n",
       "      <td>Female</td>\n",
       "      <td>20</td>\n",
       "      <td>16</td>\n",
       "      <td>6</td>\n",
       "    </tr>\n",
       "  </tbody>\n",
       "</table>\n",
       "</div>"
      ],
      "text/plain": [
       "   CustomerID  Gender  Age  Annual Income (k$)  Spending Score (1-100)\n",
       "0           1    Male   19                  15                      39\n",
       "1           2    Male   21                  15                      81\n",
       "2           3  Female   20                  16                       6"
      ]
     },
     "execution_count": 4,
     "metadata": {},
     "output_type": "execute_result"
    }
   ],
   "source": [
    "dataset.head(3) #Print first 10 rows of the dataset."
   ]
  },
  {
   "cell_type": "code",
   "execution_count": 5,
   "id": "d2534dee-1e84-4b38-9707-1793068790bc",
   "metadata": {},
   "outputs": [
    {
     "data": {
      "text/plain": [
       "(200, 5)"
      ]
     },
     "execution_count": 5,
     "metadata": {},
     "output_type": "execute_result"
    }
   ],
   "source": [
    "#total rows and colums in the dataset\n",
    "dataset.shape"
   ]
  },
  {
   "cell_type": "markdown",
   "id": "87040dd9-17d7-4446-8c8a-12b96ad16280",
   "metadata": {},
   "source": [
    "#### 3. 데이터 탐색(EDA: Exploratory Data Analysis) : 요약 통계량 확인하기 ####\n",
    "- pandas 로 불러온 데이터 살펴보기: head(), shape(), info(), describe(), value_counts(), unique() 등 \n",
    "- https://hogni.tistory.com/5"
   ]
  },
  {
   "cell_type": "code",
   "execution_count": 6,
   "id": "d11aeaf1-d716-4ec0-b180-c02d93c83802",
   "metadata": {},
   "outputs": [
    {
     "data": {
      "text/html": [
       "<div>\n",
       "<style scoped>\n",
       "    .dataframe tbody tr th:only-of-type {\n",
       "        vertical-align: middle;\n",
       "    }\n",
       "\n",
       "    .dataframe tbody tr th {\n",
       "        vertical-align: top;\n",
       "    }\n",
       "\n",
       "    .dataframe thead th {\n",
       "        text-align: right;\n",
       "    }\n",
       "</style>\n",
       "<table border=\"1\" class=\"dataframe\">\n",
       "  <thead>\n",
       "    <tr style=\"text-align: right;\">\n",
       "      <th></th>\n",
       "      <th>CustomerID</th>\n",
       "      <th>Age</th>\n",
       "      <th>Annual Income (k$)</th>\n",
       "      <th>Spending Score (1-100)</th>\n",
       "    </tr>\n",
       "  </thead>\n",
       "  <tbody>\n",
       "    <tr>\n",
       "      <th>count</th>\n",
       "      <td>200.000000</td>\n",
       "      <td>200.000000</td>\n",
       "      <td>200.000000</td>\n",
       "      <td>200.000000</td>\n",
       "    </tr>\n",
       "    <tr>\n",
       "      <th>mean</th>\n",
       "      <td>100.500000</td>\n",
       "      <td>38.850000</td>\n",
       "      <td>60.560000</td>\n",
       "      <td>50.200000</td>\n",
       "    </tr>\n",
       "    <tr>\n",
       "      <th>std</th>\n",
       "      <td>57.879185</td>\n",
       "      <td>13.969007</td>\n",
       "      <td>26.264721</td>\n",
       "      <td>25.823522</td>\n",
       "    </tr>\n",
       "    <tr>\n",
       "      <th>min</th>\n",
       "      <td>1.000000</td>\n",
       "      <td>18.000000</td>\n",
       "      <td>15.000000</td>\n",
       "      <td>1.000000</td>\n",
       "    </tr>\n",
       "    <tr>\n",
       "      <th>25%</th>\n",
       "      <td>50.750000</td>\n",
       "      <td>28.750000</td>\n",
       "      <td>41.500000</td>\n",
       "      <td>34.750000</td>\n",
       "    </tr>\n",
       "    <tr>\n",
       "      <th>50%</th>\n",
       "      <td>100.500000</td>\n",
       "      <td>36.000000</td>\n",
       "      <td>61.500000</td>\n",
       "      <td>50.000000</td>\n",
       "    </tr>\n",
       "    <tr>\n",
       "      <th>75%</th>\n",
       "      <td>150.250000</td>\n",
       "      <td>49.000000</td>\n",
       "      <td>78.000000</td>\n",
       "      <td>73.000000</td>\n",
       "    </tr>\n",
       "    <tr>\n",
       "      <th>max</th>\n",
       "      <td>200.000000</td>\n",
       "      <td>70.000000</td>\n",
       "      <td>137.000000</td>\n",
       "      <td>99.000000</td>\n",
       "    </tr>\n",
       "  </tbody>\n",
       "</table>\n",
       "</div>"
      ],
      "text/plain": [
       "       CustomerID         Age  Annual Income (k$)  Spending Score (1-100)\n",
       "count  200.000000  200.000000          200.000000              200.000000\n",
       "mean   100.500000   38.850000           60.560000               50.200000\n",
       "std     57.879185   13.969007           26.264721               25.823522\n",
       "min      1.000000   18.000000           15.000000                1.000000\n",
       "25%     50.750000   28.750000           41.500000               34.750000\n",
       "50%    100.500000   36.000000           61.500000               50.000000\n",
       "75%    150.250000   49.000000           78.000000               73.000000\n",
       "max    200.000000   70.000000          137.000000               99.000000"
      ]
     },
     "execution_count": 6,
     "metadata": {},
     "output_type": "execute_result"
    }
   ],
   "source": [
    "dataset.describe()"
   ]
  },
  {
   "cell_type": "code",
   "execution_count": 7,
   "id": "9405436d-9a27-4722-9ae9-e610e8eeef92",
   "metadata": {},
   "outputs": [
    {
     "name": "stdout",
     "output_type": "stream",
     "text": [
      "<class 'pandas.core.frame.DataFrame'>\n",
      "RangeIndex: 200 entries, 0 to 199\n",
      "Data columns (total 5 columns):\n",
      " #   Column                  Non-Null Count  Dtype \n",
      "---  ------                  --------------  ----- \n",
      " 0   CustomerID              200 non-null    int64 \n",
      " 1   Gender                  200 non-null    object\n",
      " 2   Age                     200 non-null    int64 \n",
      " 3   Annual Income (k$)      200 non-null    int64 \n",
      " 4   Spending Score (1-100)  200 non-null    int64 \n",
      "dtypes: int64(4), object(1)\n",
      "memory usage: 7.9+ KB\n"
     ]
    }
   ],
   "source": [
    "dataset.info()"
   ]
  },
  {
   "cell_type": "code",
   "execution_count": 8,
   "id": "18e8bb83-a9f4-449c-b993-77176123f0e0",
   "metadata": {},
   "outputs": [
    {
     "data": {
      "text/plain": [
       "CustomerID                0\n",
       "Gender                    0\n",
       "Age                       0\n",
       "Annual Income (k$)        0\n",
       "Spending Score (1-100)    0\n",
       "dtype: int64"
      ]
     },
     "execution_count": 8,
     "metadata": {},
     "output_type": "execute_result"
    }
   ],
   "source": [
    "dataset.isnull().sum()"
   ]
  },
  {
   "cell_type": "markdown",
   "id": "5d212a06-e7be-4296-906e-b8043c322ad0",
   "metadata": {},
   "source": [
    "#### 4. 데이터 전처리 ####"
   ]
  },
  {
   "cell_type": "markdown",
   "id": "cf6604de-e914-498f-b0d9-ba4c50a77b78",
   "metadata": {},
   "source": [
    "#### 4.1 Feature selection for the model : \"특성/속성/컬럼/x/독립변수/설명변수\"선정하기\n",
    "1. 여기서는 2개의 변수만을 사용합니다.:Annual income and Spending Score\n",
    "2. 라벨링/정답지가 없습니다."
   ]
  },
  {
   "cell_type": "code",
   "execution_count": 9,
   "id": "beff9173-9cc2-4a72-9662-0acebf7f672e",
   "metadata": {},
   "outputs": [
    {
     "data": {
      "text/html": [
       "<div>\n",
       "<style scoped>\n",
       "    .dataframe tbody tr th:only-of-type {\n",
       "        vertical-align: middle;\n",
       "    }\n",
       "\n",
       "    .dataframe tbody tr th {\n",
       "        vertical-align: top;\n",
       "    }\n",
       "\n",
       "    .dataframe thead th {\n",
       "        text-align: right;\n",
       "    }\n",
       "</style>\n",
       "<table border=\"1\" class=\"dataframe\">\n",
       "  <thead>\n",
       "    <tr style=\"text-align: right;\">\n",
       "      <th></th>\n",
       "      <th>CustomerID</th>\n",
       "      <th>Gender</th>\n",
       "      <th>Age</th>\n",
       "      <th>Annual Income (k$)</th>\n",
       "      <th>Spending Score (1-100)</th>\n",
       "    </tr>\n",
       "  </thead>\n",
       "  <tbody>\n",
       "    <tr>\n",
       "      <th>0</th>\n",
       "      <td>1</td>\n",
       "      <td>Male</td>\n",
       "      <td>19</td>\n",
       "      <td>15</td>\n",
       "      <td>39</td>\n",
       "    </tr>\n",
       "    <tr>\n",
       "      <th>1</th>\n",
       "      <td>2</td>\n",
       "      <td>Male</td>\n",
       "      <td>21</td>\n",
       "      <td>15</td>\n",
       "      <td>81</td>\n",
       "    </tr>\n",
       "    <tr>\n",
       "      <th>2</th>\n",
       "      <td>3</td>\n",
       "      <td>Female</td>\n",
       "      <td>20</td>\n",
       "      <td>16</td>\n",
       "      <td>6</td>\n",
       "    </tr>\n",
       "    <tr>\n",
       "      <th>3</th>\n",
       "      <td>4</td>\n",
       "      <td>Female</td>\n",
       "      <td>23</td>\n",
       "      <td>16</td>\n",
       "      <td>77</td>\n",
       "    </tr>\n",
       "    <tr>\n",
       "      <th>4</th>\n",
       "      <td>5</td>\n",
       "      <td>Female</td>\n",
       "      <td>31</td>\n",
       "      <td>17</td>\n",
       "      <td>40</td>\n",
       "    </tr>\n",
       "  </tbody>\n",
       "</table>\n",
       "</div>"
      ],
      "text/plain": [
       "   CustomerID  Gender  Age  Annual Income (k$)  Spending Score (1-100)\n",
       "0           1    Male   19                  15                      39\n",
       "1           2    Male   21                  15                      81\n",
       "2           3  Female   20                  16                       6\n",
       "3           4  Female   23                  16                      77\n",
       "4           5  Female   31                  17                      40"
      ]
     },
     "execution_count": 9,
     "metadata": {},
     "output_type": "execute_result"
    }
   ],
   "source": [
    "dataset.head()"
   ]
  },
  {
   "cell_type": "markdown",
   "id": "75f85e09-308e-4799-be83-027328c6f606",
   "metadata": {},
   "source": [
    "##### ---------------------------------------------------------------------------------------------------"
   ]
  },
  {
   "cell_type": "markdown",
   "id": "416eb6a4-9d91-45f7-befd-3839ee850079",
   "metadata": {},
   "source": [
    "#### (참고 1) 특정 행과 열을 선택해서 살펴보기\n",
    "- loc\n",
    "1. 데이터프레임의 행이나 컬럼에 label이나 boolean array로 접근.\n",
    "2. location의 약어로, 인간이 읽을 수 있는 label 값으로 데이터에 접근하는 것이다. \n",
    "\n",
    "- iloc\n",
    "1. 데이터프레임의 행이나 컬럼에 인덱스 값으로 접근.\n",
    "2. integer location의 약어로, 컴퓨터가 읽을 수 있는 indexing 값으로 데이터에 접근하는 것이다."
   ]
  },
  {
   "cell_type": "markdown",
   "id": "8a20da80-8ded-4445-b28a-63102682b929",
   "metadata": {},
   "source": [
    "#### (참고 1) 예제 "
   ]
  },
  {
   "cell_type": "code",
   "execution_count": 10,
   "id": "d79db1fc-2ed7-469d-95ed-1191605fc92c",
   "metadata": {},
   "outputs": [
    {
     "data": {
      "text/html": [
       "<div>\n",
       "<style scoped>\n",
       "    .dataframe tbody tr th:only-of-type {\n",
       "        vertical-align: middle;\n",
       "    }\n",
       "\n",
       "    .dataframe tbody tr th {\n",
       "        vertical-align: top;\n",
       "    }\n",
       "\n",
       "    .dataframe thead th {\n",
       "        text-align: right;\n",
       "    }\n",
       "</style>\n",
       "<table border=\"1\" class=\"dataframe\">\n",
       "  <thead>\n",
       "    <tr style=\"text-align: right;\">\n",
       "      <th></th>\n",
       "      <th>bidder_id</th>\n",
       "      <th>city</th>\n",
       "      <th>item</th>\n",
       "    </tr>\n",
       "    <tr>\n",
       "      <th>bid_id</th>\n",
       "      <th></th>\n",
       "      <th></th>\n",
       "      <th></th>\n",
       "    </tr>\n",
       "  </thead>\n",
       "  <tbody>\n",
       "    <tr>\n",
       "      <th>1</th>\n",
       "      <td>Gadi</td>\n",
       "      <td>Seoul</td>\n",
       "      <td>TV</td>\n",
       "    </tr>\n",
       "    <tr>\n",
       "      <th>2</th>\n",
       "      <td>Conda</td>\n",
       "      <td>LA</td>\n",
       "      <td>jewelry</td>\n",
       "    </tr>\n",
       "    <tr>\n",
       "      <th>3</th>\n",
       "      <td>Lion</td>\n",
       "      <td>Sydney</td>\n",
       "      <td>book</td>\n",
       "    </tr>\n",
       "  </tbody>\n",
       "</table>\n",
       "</div>"
      ],
      "text/plain": [
       "       bidder_id    city     item\n",
       "bid_id                           \n",
       "1           Gadi   Seoul       TV\n",
       "2          Conda      LA  jewelry\n",
       "3           Lion  Sydney     book"
      ]
     },
     "execution_count": 10,
     "metadata": {},
     "output_type": "execute_result"
    }
   ],
   "source": [
    "df = pd.DataFrame({ \n",
    "    \"bid_id\": [1, 2, 3], \n",
    "    \"bidder_id\": [\"Gadi\", \"Conda\", \"Lion\"], \n",
    "    \"city\": [\"Seoul\", \"LA\", \"Sydney\"], \n",
    "    \"item\": [\"TV\", \"jewelry\", \"book\"]}).set_index(\"bid_id\") \n",
    "df"
   ]
  },
  {
   "cell_type": "code",
   "execution_count": 11,
   "id": "5a85fad5-f0e8-401e-823d-3671129af10d",
   "metadata": {},
   "outputs": [
    {
     "data": {
      "text/plain": [
       "bidder_id     Gadi\n",
       "city         Seoul\n",
       "item            TV\n",
       "Name: 1, dtype: object"
      ]
     },
     "execution_count": 11,
     "metadata": {},
     "output_type": "execute_result"
    }
   ],
   "source": [
    "df.iloc[0] # 첫번째 행"
   ]
  },
  {
   "cell_type": "code",
   "execution_count": 12,
   "id": "50b1fee0-a208-4351-b86e-824fa9501e39",
   "metadata": {},
   "outputs": [
    {
     "data": {
      "text/plain": [
       "bidder_id      Conda\n",
       "city              LA\n",
       "item         jewelry\n",
       "Name: 2, dtype: object"
      ]
     },
     "execution_count": 12,
     "metadata": {},
     "output_type": "execute_result"
    }
   ],
   "source": [
    "df.iloc[1] # 두번째 행"
   ]
  },
  {
   "cell_type": "code",
   "execution_count": 13,
   "id": "57d1ad91-d4d7-4240-8c24-53dd3ecbf229",
   "metadata": {},
   "outputs": [
    {
     "data": {
      "text/plain": [
       "bid_id\n",
       "1     Gadi\n",
       "2    Conda\n",
       "3     Lion\n",
       "Name: bidder_id, dtype: object"
      ]
     },
     "execution_count": 13,
     "metadata": {},
     "output_type": "execute_result"
    }
   ],
   "source": [
    "df.iloc[:,0] # 첫번째 열"
   ]
  },
  {
   "cell_type": "code",
   "execution_count": 14,
   "id": "4fd4c198-9e83-40cf-a88c-780990b593f9",
   "metadata": {},
   "outputs": [
    {
     "data": {
      "text/plain": [
       "bid_id\n",
       "1     Seoul\n",
       "2        LA\n",
       "3    Sydney\n",
       "Name: city, dtype: object"
      ]
     },
     "execution_count": 14,
     "metadata": {},
     "output_type": "execute_result"
    }
   ],
   "source": [
    "df.iloc[:,1] # 두번째 열"
   ]
  },
  {
   "cell_type": "code",
   "execution_count": 15,
   "id": "2aa69fad-48f8-458c-8114-86ce0d3a9e4f",
   "metadata": {},
   "outputs": [
    {
     "data": {
      "text/plain": [
       "bid_id\n",
       "1     Seoul\n",
       "2        LA\n",
       "3    Sydney\n",
       "Name: city, dtype: object"
      ]
     },
     "execution_count": 15,
     "metadata": {},
     "output_type": "execute_result"
    }
   ],
   "source": [
    "df.loc[:, \"city\"] # 레이블이 city인 열"
   ]
  },
  {
   "cell_type": "markdown",
   "id": "64ecb0f8-43ee-4cb8-bfef-c405b17c9077",
   "metadata": {},
   "source": [
    "##### ---------------------------------------------------------------------------------------------------"
   ]
  },
  {
   "cell_type": "code",
   "execution_count": 16,
   "id": "520bc3df-4b30-4abb-b1ab-ce8b45054ab1",
   "metadata": {},
   "outputs": [
    {
     "data": {
      "text/html": [
       "<div>\n",
       "<style scoped>\n",
       "    .dataframe tbody tr th:only-of-type {\n",
       "        vertical-align: middle;\n",
       "    }\n",
       "\n",
       "    .dataframe tbody tr th {\n",
       "        vertical-align: top;\n",
       "    }\n",
       "\n",
       "    .dataframe thead th {\n",
       "        text-align: right;\n",
       "    }\n",
       "</style>\n",
       "<table border=\"1\" class=\"dataframe\">\n",
       "  <thead>\n",
       "    <tr style=\"text-align: right;\">\n",
       "      <th></th>\n",
       "      <th>CustomerID</th>\n",
       "      <th>Gender</th>\n",
       "      <th>Age</th>\n",
       "      <th>Annual Income (k$)</th>\n",
       "      <th>Spending Score (1-100)</th>\n",
       "    </tr>\n",
       "  </thead>\n",
       "  <tbody>\n",
       "    <tr>\n",
       "      <th>0</th>\n",
       "      <td>1</td>\n",
       "      <td>Male</td>\n",
       "      <td>19</td>\n",
       "      <td>15</td>\n",
       "      <td>39</td>\n",
       "    </tr>\n",
       "    <tr>\n",
       "      <th>1</th>\n",
       "      <td>2</td>\n",
       "      <td>Male</td>\n",
       "      <td>21</td>\n",
       "      <td>15</td>\n",
       "      <td>81</td>\n",
       "    </tr>\n",
       "    <tr>\n",
       "      <th>2</th>\n",
       "      <td>3</td>\n",
       "      <td>Female</td>\n",
       "      <td>20</td>\n",
       "      <td>16</td>\n",
       "      <td>6</td>\n",
       "    </tr>\n",
       "    <tr>\n",
       "      <th>3</th>\n",
       "      <td>4</td>\n",
       "      <td>Female</td>\n",
       "      <td>23</td>\n",
       "      <td>16</td>\n",
       "      <td>77</td>\n",
       "    </tr>\n",
       "    <tr>\n",
       "      <th>4</th>\n",
       "      <td>5</td>\n",
       "      <td>Female</td>\n",
       "      <td>31</td>\n",
       "      <td>17</td>\n",
       "      <td>40</td>\n",
       "    </tr>\n",
       "  </tbody>\n",
       "</table>\n",
       "</div>"
      ],
      "text/plain": [
       "   CustomerID  Gender  Age  Annual Income (k$)  Spending Score (1-100)\n",
       "0           1    Male   19                  15                      39\n",
       "1           2    Male   21                  15                      81\n",
       "2           3  Female   20                  16                       6\n",
       "3           4  Female   23                  16                      77\n",
       "4           5  Female   31                  17                      40"
      ]
     },
     "execution_count": 16,
     "metadata": {},
     "output_type": "execute_result"
    }
   ],
   "source": [
    "dataset.head()"
   ]
  },
  {
   "cell_type": "code",
   "execution_count": 17,
   "id": "4e4ef3a4-a7b2-4343-995a-af71b583671a",
   "metadata": {},
   "outputs": [],
   "source": [
    "X = dataset.iloc[:, [3,4]].values\n",
    "# Annualincome and Spending Score (4번째, 5번째 열)"
   ]
  },
  {
   "cell_type": "code",
   "execution_count": 18,
   "id": "60400600-8224-4f0b-96c3-c6c4477b76b7",
   "metadata": {},
   "outputs": [],
   "source": [
    "XX = dataset.loc[:, [\"Annual Income (k$)\", \"Spending Score (1-100)\"]]"
   ]
  },
  {
   "cell_type": "code",
   "execution_count": 19,
   "id": "883aab78-4949-4f5c-8dd8-25c05ba143ed",
   "metadata": {},
   "outputs": [
    {
     "data": {
      "text/plain": [
       "array([[ 15,  39],\n",
       "       [ 15,  81],\n",
       "       [ 16,   6],\n",
       "       [ 16,  77],\n",
       "       [ 17,  40],\n",
       "       [ 17,  76],\n",
       "       [ 18,   6],\n",
       "       [ 18,  94],\n",
       "       [ 19,   3],\n",
       "       [ 19,  72],\n",
       "       [ 19,  14],\n",
       "       [ 19,  99],\n",
       "       [ 20,  15],\n",
       "       [ 20,  77],\n",
       "       [ 20,  13],\n",
       "       [ 20,  79],\n",
       "       [ 21,  35],\n",
       "       [ 21,  66],\n",
       "       [ 23,  29],\n",
       "       [ 23,  98],\n",
       "       [ 24,  35],\n",
       "       [ 24,  73],\n",
       "       [ 25,   5],\n",
       "       [ 25,  73],\n",
       "       [ 28,  14],\n",
       "       [ 28,  82],\n",
       "       [ 28,  32],\n",
       "       [ 28,  61],\n",
       "       [ 29,  31],\n",
       "       [ 29,  87],\n",
       "       [ 30,   4],\n",
       "       [ 30,  73],\n",
       "       [ 33,   4],\n",
       "       [ 33,  92],\n",
       "       [ 33,  14],\n",
       "       [ 33,  81],\n",
       "       [ 34,  17],\n",
       "       [ 34,  73],\n",
       "       [ 37,  26],\n",
       "       [ 37,  75],\n",
       "       [ 38,  35],\n",
       "       [ 38,  92],\n",
       "       [ 39,  36],\n",
       "       [ 39,  61],\n",
       "       [ 39,  28],\n",
       "       [ 39,  65],\n",
       "       [ 40,  55],\n",
       "       [ 40,  47],\n",
       "       [ 40,  42],\n",
       "       [ 40,  42],\n",
       "       [ 42,  52],\n",
       "       [ 42,  60],\n",
       "       [ 43,  54],\n",
       "       [ 43,  60],\n",
       "       [ 43,  45],\n",
       "       [ 43,  41],\n",
       "       [ 44,  50],\n",
       "       [ 44,  46],\n",
       "       [ 46,  51],\n",
       "       [ 46,  46],\n",
       "       [ 46,  56],\n",
       "       [ 46,  55],\n",
       "       [ 47,  52],\n",
       "       [ 47,  59],\n",
       "       [ 48,  51],\n",
       "       [ 48,  59],\n",
       "       [ 48,  50],\n",
       "       [ 48,  48],\n",
       "       [ 48,  59],\n",
       "       [ 48,  47],\n",
       "       [ 49,  55],\n",
       "       [ 49,  42],\n",
       "       [ 50,  49],\n",
       "       [ 50,  56],\n",
       "       [ 54,  47],\n",
       "       [ 54,  54],\n",
       "       [ 54,  53],\n",
       "       [ 54,  48],\n",
       "       [ 54,  52],\n",
       "       [ 54,  42],\n",
       "       [ 54,  51],\n",
       "       [ 54,  55],\n",
       "       [ 54,  41],\n",
       "       [ 54,  44],\n",
       "       [ 54,  57],\n",
       "       [ 54,  46],\n",
       "       [ 57,  58],\n",
       "       [ 57,  55],\n",
       "       [ 58,  60],\n",
       "       [ 58,  46],\n",
       "       [ 59,  55],\n",
       "       [ 59,  41],\n",
       "       [ 60,  49],\n",
       "       [ 60,  40],\n",
       "       [ 60,  42],\n",
       "       [ 60,  52],\n",
       "       [ 60,  47],\n",
       "       [ 60,  50],\n",
       "       [ 61,  42],\n",
       "       [ 61,  49],\n",
       "       [ 62,  41],\n",
       "       [ 62,  48],\n",
       "       [ 62,  59],\n",
       "       [ 62,  55],\n",
       "       [ 62,  56],\n",
       "       [ 62,  42],\n",
       "       [ 63,  50],\n",
       "       [ 63,  46],\n",
       "       [ 63,  43],\n",
       "       [ 63,  48],\n",
       "       [ 63,  52],\n",
       "       [ 63,  54],\n",
       "       [ 64,  42],\n",
       "       [ 64,  46],\n",
       "       [ 65,  48],\n",
       "       [ 65,  50],\n",
       "       [ 65,  43],\n",
       "       [ 65,  59],\n",
       "       [ 67,  43],\n",
       "       [ 67,  57],\n",
       "       [ 67,  56],\n",
       "       [ 67,  40],\n",
       "       [ 69,  58],\n",
       "       [ 69,  91],\n",
       "       [ 70,  29],\n",
       "       [ 70,  77],\n",
       "       [ 71,  35],\n",
       "       [ 71,  95],\n",
       "       [ 71,  11],\n",
       "       [ 71,  75],\n",
       "       [ 71,   9],\n",
       "       [ 71,  75],\n",
       "       [ 72,  34],\n",
       "       [ 72,  71],\n",
       "       [ 73,   5],\n",
       "       [ 73,  88],\n",
       "       [ 73,   7],\n",
       "       [ 73,  73],\n",
       "       [ 74,  10],\n",
       "       [ 74,  72],\n",
       "       [ 75,   5],\n",
       "       [ 75,  93],\n",
       "       [ 76,  40],\n",
       "       [ 76,  87],\n",
       "       [ 77,  12],\n",
       "       [ 77,  97],\n",
       "       [ 77,  36],\n",
       "       [ 77,  74],\n",
       "       [ 78,  22],\n",
       "       [ 78,  90],\n",
       "       [ 78,  17],\n",
       "       [ 78,  88],\n",
       "       [ 78,  20],\n",
       "       [ 78,  76],\n",
       "       [ 78,  16],\n",
       "       [ 78,  89],\n",
       "       [ 78,   1],\n",
       "       [ 78,  78],\n",
       "       [ 78,   1],\n",
       "       [ 78,  73],\n",
       "       [ 79,  35],\n",
       "       [ 79,  83],\n",
       "       [ 81,   5],\n",
       "       [ 81,  93],\n",
       "       [ 85,  26],\n",
       "       [ 85,  75],\n",
       "       [ 86,  20],\n",
       "       [ 86,  95],\n",
       "       [ 87,  27],\n",
       "       [ 87,  63],\n",
       "       [ 87,  13],\n",
       "       [ 87,  75],\n",
       "       [ 87,  10],\n",
       "       [ 87,  92],\n",
       "       [ 88,  13],\n",
       "       [ 88,  86],\n",
       "       [ 88,  15],\n",
       "       [ 88,  69],\n",
       "       [ 93,  14],\n",
       "       [ 93,  90],\n",
       "       [ 97,  32],\n",
       "       [ 97,  86],\n",
       "       [ 98,  15],\n",
       "       [ 98,  88],\n",
       "       [ 99,  39],\n",
       "       [ 99,  97],\n",
       "       [101,  24],\n",
       "       [101,  68],\n",
       "       [103,  17],\n",
       "       [103,  85],\n",
       "       [103,  23],\n",
       "       [103,  69],\n",
       "       [113,   8],\n",
       "       [113,  91],\n",
       "       [120,  16],\n",
       "       [120,  79],\n",
       "       [126,  28],\n",
       "       [126,  74],\n",
       "       [137,  18],\n",
       "       [137,  83]], dtype=int64)"
      ]
     },
     "execution_count": 19,
     "metadata": {},
     "output_type": "execute_result"
    }
   ],
   "source": [
    "X\n",
    "# data checking"
   ]
  },
  {
   "cell_type": "code",
   "execution_count": 20,
   "id": "ce70b440-3166-4ebf-aab5-95efc9361da9",
   "metadata": {},
   "outputs": [
    {
     "data": {
      "text/html": [
       "<div>\n",
       "<style scoped>\n",
       "    .dataframe tbody tr th:only-of-type {\n",
       "        vertical-align: middle;\n",
       "    }\n",
       "\n",
       "    .dataframe tbody tr th {\n",
       "        vertical-align: top;\n",
       "    }\n",
       "\n",
       "    .dataframe thead th {\n",
       "        text-align: right;\n",
       "    }\n",
       "</style>\n",
       "<table border=\"1\" class=\"dataframe\">\n",
       "  <thead>\n",
       "    <tr style=\"text-align: right;\">\n",
       "      <th></th>\n",
       "      <th>Annual Income (k$)</th>\n",
       "      <th>Spending Score (1-100)</th>\n",
       "    </tr>\n",
       "  </thead>\n",
       "  <tbody>\n",
       "    <tr>\n",
       "      <th>0</th>\n",
       "      <td>15</td>\n",
       "      <td>39</td>\n",
       "    </tr>\n",
       "    <tr>\n",
       "      <th>1</th>\n",
       "      <td>15</td>\n",
       "      <td>81</td>\n",
       "    </tr>\n",
       "    <tr>\n",
       "      <th>2</th>\n",
       "      <td>16</td>\n",
       "      <td>6</td>\n",
       "    </tr>\n",
       "    <tr>\n",
       "      <th>3</th>\n",
       "      <td>16</td>\n",
       "      <td>77</td>\n",
       "    </tr>\n",
       "    <tr>\n",
       "      <th>4</th>\n",
       "      <td>17</td>\n",
       "      <td>40</td>\n",
       "    </tr>\n",
       "    <tr>\n",
       "      <th>...</th>\n",
       "      <td>...</td>\n",
       "      <td>...</td>\n",
       "    </tr>\n",
       "    <tr>\n",
       "      <th>195</th>\n",
       "      <td>120</td>\n",
       "      <td>79</td>\n",
       "    </tr>\n",
       "    <tr>\n",
       "      <th>196</th>\n",
       "      <td>126</td>\n",
       "      <td>28</td>\n",
       "    </tr>\n",
       "    <tr>\n",
       "      <th>197</th>\n",
       "      <td>126</td>\n",
       "      <td>74</td>\n",
       "    </tr>\n",
       "    <tr>\n",
       "      <th>198</th>\n",
       "      <td>137</td>\n",
       "      <td>18</td>\n",
       "    </tr>\n",
       "    <tr>\n",
       "      <th>199</th>\n",
       "      <td>137</td>\n",
       "      <td>83</td>\n",
       "    </tr>\n",
       "  </tbody>\n",
       "</table>\n",
       "<p>200 rows × 2 columns</p>\n",
       "</div>"
      ],
      "text/plain": [
       "     Annual Income (k$)  Spending Score (1-100)\n",
       "0                    15                      39\n",
       "1                    15                      81\n",
       "2                    16                       6\n",
       "3                    16                      77\n",
       "4                    17                      40\n",
       "..                  ...                     ...\n",
       "195                 120                      79\n",
       "196                 126                      28\n",
       "197                 126                      74\n",
       "198                 137                      18\n",
       "199                 137                      83\n",
       "\n",
       "[200 rows x 2 columns]"
      ]
     },
     "execution_count": 20,
     "metadata": {},
     "output_type": "execute_result"
    }
   ],
   "source": [
    "XX"
   ]
  },
  {
   "cell_type": "markdown",
   "id": "0cdccc04-ba40-41c8-b290-bd617f8acb4f",
   "metadata": {
    "tags": []
   },
   "source": [
    "##### ------------------------------------------------------------------------------------"
   ]
  },
  {
   "cell_type": "markdown",
   "id": "949b5881-a215-423d-abc9-c447d2b60582",
   "metadata": {},
   "source": [
    "    0. Problem Define\n",
    "    1. Library import\n",
    "    2. Data upload\n",
    "    3. EDA(Exploratory Data Analysis) : 데이터 탐색\n",
    "    4. 데이터 전처리\n",
    "        - 4.1  Feature selection for the model\n",
    "    5. 모델링 :: K-Means Algorithm\n",
    "        - 5.1 Building the Model: finding out optimal k \n",
    "        - 5.2 Visualizating the ELBOW method to get the optimal value of K\n",
    "        - 5.3 Building K-Means ALgorithm\n",
    "        - 5.4 Visualizing all the clusters "
   ]
  },
  {
   "cell_type": "markdown",
   "id": "c52eb239-1c8e-4fa5-8498-34fe1351dff7",
   "metadata": {},
   "source": [
    "##### ------------------------------------------------------------------------------------"
   ]
  },
  {
   "cell_type": "markdown",
   "id": "709c4b17-20c9-4707-bbe5-0b398e627f6b",
   "metadata": {},
   "source": [
    "#### 5. 모델링 : K-Means Algorithm ####"
   ]
  },
  {
   "cell_type": "markdown",
   "id": "3ab9de7a-f344-4eaa-88a4-c5dac4258056",
   "metadata": {},
   "source": [
    "#### 5.1 Building the Model : k 값을 정합니다. "
   ]
  },
  {
   "cell_type": "markdown",
   "id": "c3648d03-668d-4166-abdf-2043c707e967",
   "metadata": {},
   "source": [
    "1. k-means 알고리즘 최적의 k 값을 구해서 clustering 하는 것입니다. 최적의 k 값을 찾기위한 방법으로 팔꿈치(elbow) 법칙?? 을 사용합니다. \n",
    "2. elbow method 란 cluster 간의 거리의 합이 급격히 떨어지는 구간이 생기게 됩니다. 그때 k 값을 군집의 개수로 사용합니다. \n",
    "3. 참고 사이트:  https://steadiness-193.tistory.com/285"
   ]
  },
  {
   "cell_type": "code",
   "execution_count": 21,
   "id": "d7c1ca67-5df6-4c0a-92c8-324d856cadda",
   "metadata": {},
   "outputs": [],
   "source": [
    "from sklearn.cluster import KMeans\n",
    "WCSS=[]\n",
    "\n",
    "### Within-Cluster-Sum-of-Squares (WCSS)\n",
    "### https://analyticsindiamag.com/beginners-guide-to-k-means-clustering/\n",
    "### 설명과 애니매이션으로 clustering에 대해서 잘 설명 되어 있습니다. \n",
    "### 그림만 따라가도.. 아하!! 하고 이해가 되실 것 같습니다. "
   ]
  },
  {
   "cell_type": "code",
   "execution_count": 22,
   "id": "e26cacb4-916d-43d5-b7b6-94f7a055050f",
   "metadata": {},
   "outputs": [
    {
     "data": {
      "text/plain": [
       "[]"
      ]
     },
     "execution_count": 22,
     "metadata": {},
     "output_type": "execute_result"
    }
   ],
   "source": [
    "WCSS"
   ]
  },
  {
   "cell_type": "code",
   "execution_count": 23,
   "id": "91e3bc0b-fbe9-4f1c-a05d-2f3dec158d9d",
   "metadata": {},
   "outputs": [
    {
     "name": "stderr",
     "output_type": "stream",
     "text": [
      "C:\\Users\\Main\\anaconda3\\lib\\site-packages\\sklearn\\cluster\\_kmeans.py:1038: UserWarning: KMeans is known to have a memory leak on Windows with MKL, when there are less chunks than available threads. You can avoid it by setting the environment variable OMP_NUM_THREADS=1.\n",
      "  warnings.warn(\n"
     ]
    },
    {
     "name": "stdout",
     "output_type": "stream",
     "text": [
      "k: 1 inertia: 269981.28\n",
      "k: 2 inertia: 181363.59595959593\n",
      "k: 3 inertia: 106348.37306211118\n",
      "k: 4 inertia: 73679.78903948836\n",
      "k: 5 inertia: 44448.45544793371\n",
      "k: 6 inertia: 37265.86520484347\n",
      "k: 7 inertia: 30259.65720728547\n",
      "k: 8 inertia: 25095.703209997548\n",
      "k: 9 inertia: 21830.041978049438\n",
      "k: 10 inertia: 20736.679938924124\n"
     ]
    }
   ],
   "source": [
    "for i in range (1,11):\n",
    "    kmeans = KMeans(n_clusters=i, init='k-means++', random_state=0)\n",
    "    kmeans.fit(X)\n",
    "    interia=kmeans.inertia_\n",
    "    #### inertia_ is the formula used to segregate the data points into clusters\n",
    "    #### inertia = 관성\n",
    "    #### Cluster 간의 거리의 합을 나타내는 inertia가 급격히 떨어지는 구간이 생기는데 \n",
    "    #### 이 지점의 K 값을 군집의 개수로 사용 inertia_속성으로 확인할 수 있다 \n",
    "    print('k:', i, 'inertia:', interia)\n",
    "    WCSS.append(kmeans.inertia_)"
   ]
  },
  {
   "cell_type": "code",
   "execution_count": 24,
   "id": "d04d632b-61c2-4014-9808-f92243961713",
   "metadata": {},
   "outputs": [],
   "source": [
    "### numpy version should be downgraded 1.21.4 \n",
    "### https://www.datasciencelearner.com/how-to-downgrade-numpy-steps/\n",
    "### or \n",
    "### https://mydevjourney.tistory.com/76\n",
    "### !pip install threadpoolctl==3.1.0"
   ]
  },
  {
   "cell_type": "markdown",
   "id": "85e9737d-c83f-4b63-824d-98b0c24d5bb8",
   "metadata": {},
   "source": [
    "###### ------------------------------------------------------------------------------------"
   ]
  },
  {
   "cell_type": "markdown",
   "id": "7eb24b52-154b-42e4-973d-11534e53c594",
   "metadata": {},
   "source": [
    "##### 참고 1) 변수 설명 \n",
    "- n_clusters:  k-means의 k를 의미하는 군집형성의 개수를 뜻합니다.\n",
    "- random_state를 통해서 난수 고정을하는 것을 의미합니다. 학습결과의 동일성을 위해서입니다.\n",
    "- 참고사이트 및 sklearn 에서 KMeans clustering site: https://scikit-learn.org/stable/modules/generated/sklearn.cluster.KMeans.html\n",
    "    - init{‘k-means++’, ‘random’}, \n",
    "        - ‘k-means++’ : selects initial cluster centers for k-mean clustering in a smart way to speed up convergence. \n",
    "        - 'random': choose n_clusters observations (rows) at random from data for the initial centroids.\n",
    "        - default는 'k-means++' 입니다."
   ]
  },
  {
   "cell_type": "markdown",
   "id": "5e8405f0-f5bd-4f40-a84c-0223ac0c48b0",
   "metadata": {},
   "source": [
    "##### ------------------------------------------------------------------------------------"
   ]
  },
  {
   "cell_type": "markdown",
   "id": "e6cbafdb-a948-4143-bfa3-fa1a100a3ea2",
   "metadata": {},
   "source": [
    "    0. Problem Define\n",
    "    1. Library import\n",
    "    2. Data upload\n",
    "    3. EDA(Exploratory Data Analysis) : 데이터 탐색\n",
    "    4. 데이터 전처리\n",
    "        - 4.1  Feature selection for the model\n",
    "    5. 모델링 :: K-Means Algorithm\n",
    "        - 5.1 Building the Model: finding out optimal k \n",
    "        - 5.2 Visualizating the ELBOW method to get the optimal value of K\n",
    "        - 5.3 Building K-Means ALgorithm\n",
    "        - 5.4 Visualizing all the clusters "
   ]
  },
  {
   "cell_type": "markdown",
   "id": "098460a9-5933-480d-9a3d-f99cf87aa243",
   "metadata": {},
   "source": [
    "##### ------------------------------------------------------------------------------------"
   ]
  },
  {
   "cell_type": "markdown",
   "id": "cc1f6746-e8f0-40ab-b66a-999f8f5a80a9",
   "metadata": {},
   "source": [
    "#### 5.2  Visualizating the ELBOW method to get the optimal value of K\n",
    "1. 최적의 k 값을 찾기위한 방법으로 팔꿈치(elbow) 법칙?? 을 사용합니다. \n",
    "2. elbow method 란 cluster 간의 거리의 합이 급격히 떨어지는 구간이 생기게 됩니다. 그때 k 값을 군집의 개수로 사용합니다. "
   ]
  },
  {
   "cell_type": "code",
   "execution_count": 25,
   "id": "980135df-62be-4378-804a-c32dc54ae3f9",
   "metadata": {},
   "outputs": [],
   "source": [
    "### 가정 ###\n",
    "\n",
    "### The max number of cluster would be 10.\n",
    "\n",
    "### for i in range(1,11):\n",
    "###    kmeans = KMeans(n_clusters= i, init='k-means++', random_state=0)\n",
    "###    kmeans.fit(X)\n",
    "###    WCSS.append(kmeans.inertia_)"
   ]
  },
  {
   "cell_type": "code",
   "execution_count": 26,
   "id": "e6d29eeb-ec2c-495a-9d50-aa177cfd3c70",
   "metadata": {},
   "outputs": [
    {
     "data": {
      "image/png": "[encoded data removed]",
      "text/plain": [
       "<Figure size 432x288 with 1 Axes>"
      ]
     },
     "metadata": {
      "needs_background": "light"
     },
     "output_type": "display_data"
    }
   ],
   "source": [
    "plt.plot(range(1,11), WCSS)\n",
    "\n",
    "plt.title('The Elbow Method')\n",
    "plt.xlabel('no of clusters')\n",
    "plt.ylabel('WCSS')\n",
    "plt.show()"
   ]
  },
  {
   "cell_type": "markdown",
   "id": "7a053a62-9171-4517-b276-f4776f954047",
   "metadata": {},
   "source": [
    "##### 해석 ) \n",
    "- If you zoom out this curve then you will see that last elbow comes at k=5\n",
    "- no matter what range we select \n",
    "    - ex) (1,21) also i will see the same behavior but if we chose higher range it is little difficult to visualize the ELBOW\n",
    "- Finally, we got that k=5"
   ]
  },
  {
   "cell_type": "markdown",
   "id": "62691887-f26f-471c-9cfb-d43c3b6006fd",
   "metadata": {},
   "source": [
    "##### ------------------------------------------------------------------------------------"
   ]
  },
  {
   "cell_type": "markdown",
   "id": "8feb547c-fb37-4e2c-831b-f42c3807ed3a",
   "metadata": {},
   "source": [
    "    0. Problem Define\n",
    "    1. Library import\n",
    "    2. Data upload\n",
    "    3. EDA(Exploratory Data Analysis) : 데이터 탐색\n",
    "    4. 데이터 전처리\n",
    "        - 4.1  Feature selection for the model\n",
    "    5. 모델링 :: K-Means Algorithm\n",
    "        - 5.1 Building the Model: finding out optimal k \n",
    "        - 5.2 Visualizating the ELBOW method to get the optimal value of K\n",
    "        - 5.3 Building K-Means ALgorithm\n",
    "        - 5.4 Visualizing all the clusters "
   ]
  },
  {
   "cell_type": "markdown",
   "id": "44a3c9d5-9c1b-465c-853e-bf4696ed09a6",
   "metadata": {},
   "source": [
    "##### ------------------------------------------------------------------------------------"
   ]
  },
  {
   "cell_type": "markdown",
   "id": "ff40954e-9d0b-44e4-88ca-2d93833e85d8",
   "metadata": {},
   "source": [
    "#### 5.3 Building K-Means ALgorithm"
   ]
  },
  {
   "cell_type": "code",
   "execution_count": 27,
   "id": "6494774c-5189-492c-90f9-51d75f6188b2",
   "metadata": {},
   "outputs": [
    {
     "data": {
      "text/plain": [
       "array([4, 3, 4, 3, 4, 3, 4, 3, 4, 3, 4, 3, 4, 3, 4, 3, 4, 3, 4, 3, 4, 3,\n",
       "       4, 3, 4, 3, 4, 3, 4, 3, 4, 3, 4, 3, 4, 3, 4, 3, 4, 3, 4, 3, 4, 1,\n",
       "       4, 3, 1, 1, 1, 1, 1, 1, 1, 1, 1, 1, 1, 1, 1, 1, 1, 1, 1, 1, 1, 1,\n",
       "       1, 1, 1, 1, 1, 1, 1, 1, 1, 1, 1, 1, 1, 1, 1, 1, 1, 1, 1, 1, 1, 1,\n",
       "       1, 1, 1, 1, 1, 1, 1, 1, 1, 1, 1, 1, 1, 1, 1, 1, 1, 1, 1, 1, 1, 1,\n",
       "       1, 1, 1, 1, 1, 1, 1, 1, 1, 1, 1, 1, 1, 2, 0, 2, 1, 2, 0, 2, 0, 2,\n",
       "       1, 2, 0, 2, 0, 2, 0, 2, 0, 2, 1, 2, 0, 2, 0, 2, 0, 2, 0, 2, 0, 2,\n",
       "       0, 2, 0, 2, 0, 2, 0, 2, 0, 2, 0, 2, 0, 2, 0, 2, 0, 2, 0, 2, 0, 2,\n",
       "       0, 2, 0, 2, 0, 2, 0, 2, 0, 2, 0, 2, 0, 2, 0, 2, 0, 2, 0, 2, 0, 2,\n",
       "       0, 2])"
      ]
     },
     "execution_count": 27,
     "metadata": {},
     "output_type": "execute_result"
    }
   ],
   "source": [
    "kmeansmodel = KMeans(n_clusters= 5, init='k-means++', max_iter=300, random_state=0)\n",
    "y_kmeans= kmeansmodel.fit_predict(X)\n",
    "y_kmeans"
   ]
  },
  {
   "cell_type": "code",
   "execution_count": 28,
   "id": "cbf1a147-3440-401b-8b63-08509ab95fdc",
   "metadata": {},
   "outputs": [
    {
     "data": {
      "text/plain": [
       "array([[15, 39],\n",
       "       [15, 81],\n",
       "       [16,  6]], dtype=int64)"
      ]
     },
     "execution_count": 28,
     "metadata": {},
     "output_type": "execute_result"
    }
   ],
   "source": [
    "X[0:3,]"
   ]
  },
  {
   "cell_type": "code",
   "execution_count": 29,
   "id": "d25989fe-7d50-4ea8-8ddc-b7164bd801fd",
   "metadata": {},
   "outputs": [
    {
     "data": {
      "text/html": [
       "<div>\n",
       "<style scoped>\n",
       "    .dataframe tbody tr th:only-of-type {\n",
       "        vertical-align: middle;\n",
       "    }\n",
       "\n",
       "    .dataframe tbody tr th {\n",
       "        vertical-align: top;\n",
       "    }\n",
       "\n",
       "    .dataframe thead th {\n",
       "        text-align: right;\n",
       "    }\n",
       "</style>\n",
       "<table border=\"1\" class=\"dataframe\">\n",
       "  <thead>\n",
       "    <tr style=\"text-align: right;\">\n",
       "      <th></th>\n",
       "      <th>CustomerID</th>\n",
       "      <th>Gender</th>\n",
       "      <th>Age</th>\n",
       "      <th>Annual Income (k$)</th>\n",
       "      <th>Spending Score (1-100)</th>\n",
       "    </tr>\n",
       "  </thead>\n",
       "  <tbody>\n",
       "    <tr>\n",
       "      <th>0</th>\n",
       "      <td>1</td>\n",
       "      <td>Male</td>\n",
       "      <td>19</td>\n",
       "      <td>15</td>\n",
       "      <td>39</td>\n",
       "    </tr>\n",
       "    <tr>\n",
       "      <th>1</th>\n",
       "      <td>2</td>\n",
       "      <td>Male</td>\n",
       "      <td>21</td>\n",
       "      <td>15</td>\n",
       "      <td>81</td>\n",
       "    </tr>\n",
       "    <tr>\n",
       "      <th>2</th>\n",
       "      <td>3</td>\n",
       "      <td>Female</td>\n",
       "      <td>20</td>\n",
       "      <td>16</td>\n",
       "      <td>6</td>\n",
       "    </tr>\n",
       "  </tbody>\n",
       "</table>\n",
       "</div>"
      ],
      "text/plain": [
       "   CustomerID  Gender  Age  Annual Income (k$)  Spending Score (1-100)\n",
       "0           1    Male   19                  15                      39\n",
       "1           2    Male   21                  15                      81\n",
       "2           3  Female   20                  16                       6"
      ]
     },
     "execution_count": 29,
     "metadata": {},
     "output_type": "execute_result"
    }
   ],
   "source": [
    "dataset.head(3)"
   ]
  },
  {
   "cell_type": "code",
   "execution_count": 30,
   "id": "38046b7c-5cf0-4fb8-b948-a0c22e864043",
   "metadata": {},
   "outputs": [
    {
     "data": {
      "text/html": [
       "<div>\n",
       "<style scoped>\n",
       "    .dataframe tbody tr th:only-of-type {\n",
       "        vertical-align: middle;\n",
       "    }\n",
       "\n",
       "    .dataframe tbody tr th {\n",
       "        vertical-align: top;\n",
       "    }\n",
       "\n",
       "    .dataframe thead th {\n",
       "        text-align: right;\n",
       "    }\n",
       "</style>\n",
       "<table border=\"1\" class=\"dataframe\">\n",
       "  <thead>\n",
       "    <tr style=\"text-align: right;\">\n",
       "      <th></th>\n",
       "      <th>Annual Income (k$)</th>\n",
       "      <th>Spending Score (1-100)</th>\n",
       "    </tr>\n",
       "  </thead>\n",
       "  <tbody>\n",
       "    <tr>\n",
       "      <th>0</th>\n",
       "      <td>15</td>\n",
       "      <td>39</td>\n",
       "    </tr>\n",
       "    <tr>\n",
       "      <th>1</th>\n",
       "      <td>15</td>\n",
       "      <td>81</td>\n",
       "    </tr>\n",
       "    <tr>\n",
       "      <th>2</th>\n",
       "      <td>16</td>\n",
       "      <td>6</td>\n",
       "    </tr>\n",
       "  </tbody>\n",
       "</table>\n",
       "</div>"
      ],
      "text/plain": [
       "   Annual Income (k$)  Spending Score (1-100)\n",
       "0                  15                      39\n",
       "1                  15                      81\n",
       "2                  16                       6"
      ]
     },
     "execution_count": 30,
     "metadata": {},
     "output_type": "execute_result"
    }
   ],
   "source": [
    "XX.head(3)"
   ]
  },
  {
   "cell_type": "markdown",
   "id": "a9612f21-f724-4247-b787-111a9518245b",
   "metadata": {},
   "source": [
    "##### 해석)\n",
    "- For unsupervised learning we use \"fit_predict()\" wherein for supervised learning we use \"fit_tranform()\"\n",
    "- y_kmeans is the final model.\n",
    "    - income: 15, score: 39 는 그룹 4에 속한다. \n",
    "    - X = dataset.iloc[:, [3,4]].values ---->  Annualincome and Spending Score"
   ]
  },
  {
   "cell_type": "markdown",
   "id": "77ad23b9-46cc-481b-9460-aeb62ccd26e4",
   "metadata": {},
   "source": [
    "##### ------------------------------------------------------------------------------------"
   ]
  },
  {
   "cell_type": "markdown",
   "id": "905feceb-b6e4-45c6-9ee3-9ce09b5eb487",
   "metadata": {},
   "source": [
    "    0. Problem Define\n",
    "    1. Library import\n",
    "    2. Data upload\n",
    "    3. EDA(Exploratory Data Analysis) : 데이터 탐색\n",
    "    4. 데이터 전처리\n",
    "        - 4.1  Feature selection for the model\n",
    "    5. 모델링 :: K-Means Algorithm\n",
    "        - 5.1 Building the Model: finding out optimal k \n",
    "        - 5.2 Visualizating the ELBOW method to get the optimal value of K\n",
    "        - 5.3 Building K-Means ALgorithm\n",
    "        - 5.4 Visualizing all the clusters "
   ]
  },
  {
   "cell_type": "markdown",
   "id": "316d2196-81d3-49c6-a88f-050a1889fe71",
   "metadata": {},
   "source": [
    "##### ------------------------------------------------------------------------------------"
   ]
  },
  {
   "cell_type": "markdown",
   "id": "9b88f1eb-3980-44a2-bc55-7d09fe1eb434",
   "metadata": {},
   "source": [
    "#### 5.4 Visualizing all the clusters "
   ]
  },
  {
   "cell_type": "code",
   "execution_count": 31,
   "id": "2f13b04b-b9f2-4689-b263-77e2707936cb",
   "metadata": {},
   "outputs": [
    {
     "data": {
      "image/png": "[encoded data removed]",
      "text/plain": [
       "<Figure size 432x288 with 1 Axes>"
      ]
     },
     "metadata": {
      "needs_background": "light"
     },
     "output_type": "display_data"
    }
   ],
   "source": [
    "### 참고 사이트:  https://m.blog.naver.com/PostView.naver?isHttpsRedirect=true&blogId=tt2t2am1118&logNo=221183481798\n",
    "\n",
    "plt.scatter(X[y_kmeans == 0, 0], X[y_kmeans == 0, 1], s = 10, c = 'red', label = 'Cluster 1')\n",
    "plt.scatter(X[y_kmeans == 1, 0], X[y_kmeans == 1, 1], s = 100, c = 'blue', label = 'Cluster 2')\n",
    "plt.scatter(X[y_kmeans == 2, 0], X[y_kmeans == 2, 1], s = 100, c = 'green', label = 'Cluster 3')\n",
    "plt.scatter(X[y_kmeans == 3, 0], X[y_kmeans == 3, 1], s = 100, c = 'cyan', label = 'Cluster 4')\n",
    "plt.scatter(X[y_kmeans == 4, 0], X[y_kmeans == 4, 1], s = 100, c = 'magenta', label = 'Cluster 5')\n",
    "plt.scatter(kmeans.cluster_centers_[:, 0], kmeans.cluster_centers_[:, 1], s = 300, c = 'yellow', label = 'Centroids')\n",
    "\n",
    "plt.title('Clusters of customers')\n",
    "plt.xlabel('Annual Income (k$)')\n",
    "plt.ylabel('Spending Score (1-100)')\n",
    "plt.legend()\n",
    "plt.show()"
   ]
  },
  {
   "cell_type": "code",
   "execution_count": 32,
   "id": "2452521e-7c94-4a27-9a6a-fd5d2d6fdd41",
   "metadata": {},
   "outputs": [
    {
     "data": {
      "text/plain": [
       "array([4, 3, 4, 3, 4, 3, 4, 3, 4, 3, 4, 3, 4, 3, 4, 3, 4, 3, 4, 3, 4, 3,\n",
       "       4, 3, 4, 3, 4, 3, 4, 3, 4, 3, 4, 3, 4, 3, 4, 3, 4, 3, 4, 3, 4, 1,\n",
       "       4, 3, 1, 1, 1, 1, 1, 1, 1, 1, 1, 1, 1, 1, 1, 1, 1, 1, 1, 1, 1, 1,\n",
       "       1, 1, 1, 1, 1, 1, 1, 1, 1, 1, 1, 1, 1, 1, 1, 1, 1, 1, 1, 1, 1, 1,\n",
       "       1, 1, 1, 1, 1, 1, 1, 1, 1, 1, 1, 1, 1, 1, 1, 1, 1, 1, 1, 1, 1, 1,\n",
       "       1, 1, 1, 1, 1, 1, 1, 1, 1, 1, 1, 1, 1, 2, 0, 2, 1, 2, 0, 2, 0, 2,\n",
       "       1, 2, 0, 2, 0, 2, 0, 2, 0, 2, 1, 2, 0, 2, 0, 2, 0, 2, 0, 2, 0, 2,\n",
       "       0, 2, 0, 2, 0, 2, 0, 2, 0, 2, 0, 2, 0, 2, 0, 2, 0, 2, 0, 2, 0, 2,\n",
       "       0, 2, 0, 2, 0, 2, 0, 2, 0, 2, 0, 2, 0, 2, 0, 2, 0, 2, 0, 2, 0, 2,\n",
       "       0, 2])"
      ]
     },
     "execution_count": 32,
     "metadata": {},
     "output_type": "execute_result"
    }
   ],
   "source": [
    "y_kmeans"
   ]
  },
  {
   "cell_type": "code",
   "execution_count": 33,
   "id": "51b39f3d-fe58-442d-b7ae-b4b3ae1b53ce",
   "metadata": {},
   "outputs": [
    {
     "data": {
      "text/plain": [
       "array([ 70,  71,  71,  73,  73,  74,  75,  77,  77,  78,  78,  78,  78,\n",
       "        78,  78,  79,  81,  85,  86,  87,  87,  87,  88,  88,  93,  97,\n",
       "        98,  99, 101, 103, 103, 113, 120, 126, 137], dtype=int64)"
      ]
     },
     "execution_count": 33,
     "metadata": {},
     "output_type": "execute_result"
    }
   ],
   "source": [
    "X[y_kmeans == 0, 0] ## Annual Income (k$)"
   ]
  },
  {
   "cell_type": "code",
   "execution_count": 34,
   "id": "2219b34c-4863-49cb-a7df-b1ee5bd1d370",
   "metadata": {},
   "outputs": [
    {
     "data": {
      "text/plain": [
       "array([15, 16, 17, 18, 19, 19, 20, 20, 21, 23, 24, 25, 28, 28, 29, 30, 33,\n",
       "       33, 34, 37, 38, 39, 39], dtype=int64)"
      ]
     },
     "execution_count": 34,
     "metadata": {},
     "output_type": "execute_result"
    }
   ],
   "source": [
    "X[y_kmeans == 4, 0] ## Annual Income (k$)"
   ]
  },
  {
   "cell_type": "code",
   "execution_count": 35,
   "id": "e44cc019-2c49-4ae2-be40-d6fec5fcb048",
   "metadata": {},
   "outputs": [
    {
     "data": {
      "text/html": [
       "<div>\n",
       "<style scoped>\n",
       "    .dataframe tbody tr th:only-of-type {\n",
       "        vertical-align: middle;\n",
       "    }\n",
       "\n",
       "    .dataframe tbody tr th {\n",
       "        vertical-align: top;\n",
       "    }\n",
       "\n",
       "    .dataframe thead th {\n",
       "        text-align: right;\n",
       "    }\n",
       "</style>\n",
       "<table border=\"1\" class=\"dataframe\">\n",
       "  <thead>\n",
       "    <tr style=\"text-align: right;\">\n",
       "      <th></th>\n",
       "      <th>Annual Income (k$)</th>\n",
       "      <th>Spending Score (1-100)</th>\n",
       "    </tr>\n",
       "  </thead>\n",
       "  <tbody>\n",
       "    <tr>\n",
       "      <th>0</th>\n",
       "      <td>15</td>\n",
       "      <td>39</td>\n",
       "    </tr>\n",
       "    <tr>\n",
       "      <th>1</th>\n",
       "      <td>15</td>\n",
       "      <td>81</td>\n",
       "    </tr>\n",
       "    <tr>\n",
       "      <th>2</th>\n",
       "      <td>16</td>\n",
       "      <td>6</td>\n",
       "    </tr>\n",
       "  </tbody>\n",
       "</table>\n",
       "</div>"
      ],
      "text/plain": [
       "   Annual Income (k$)  Spending Score (1-100)\n",
       "0                  15                      39\n",
       "1                  15                      81\n",
       "2                  16                       6"
      ]
     },
     "execution_count": 35,
     "metadata": {},
     "output_type": "execute_result"
    }
   ],
   "source": [
    "XX.head(3)"
   ]
  },
  {
   "cell_type": "code",
   "execution_count": 36,
   "id": "c1480d64-eef1-412e-b1d1-ca253f387505",
   "metadata": {},
   "outputs": [
    {
     "data": {
      "text/plain": [
       "array([39,  6, 40,  6,  3, 14, 15, 13, 35, 29, 35,  5, 14, 32, 31,  4,  4,\n",
       "       14, 17, 26, 35, 36, 28], dtype=int64)"
      ]
     },
     "execution_count": 36,
     "metadata": {},
     "output_type": "execute_result"
    }
   ],
   "source": [
    "X[y_kmeans == 4, 1] ##Spending Score (1-100)"
   ]
  },
  {
   "cell_type": "code",
   "execution_count": 37,
   "id": "813258b6-89eb-4d6b-9803-baf72575e20f",
   "metadata": {},
   "outputs": [
    {
     "data": {
      "text/plain": [
       "array([29, 11,  9,  5,  7, 10,  5, 12, 36, 22, 17, 20, 16,  1,  1, 35,  5,\n",
       "       26, 20, 27, 13, 10, 13, 15, 14, 32, 15, 39, 24, 17, 23,  8, 16, 28,\n",
       "       18], dtype=int64)"
      ]
     },
     "execution_count": 37,
     "metadata": {},
     "output_type": "execute_result"
    }
   ],
   "source": [
    "X[y_kmeans == 0, 1] ##Spending Score (1-100)"
   ]
  },
  {
   "cell_type": "code",
   "execution_count": 38,
   "id": "aa0d1ded-a685-4052-a35d-c7d7ff5d9719",
   "metadata": {},
   "outputs": [
    {
     "data": {
      "image/png": "[encoded data removed]",
      "text/plain": [
       "<IPython.core.display.Image object>"
      ]
     },
     "execution_count": 38,
     "metadata": {
      "image/png": {
       "height": 400,
       "width": 600
      }
     },
     "output_type": "execute_result"
    }
   ],
   "source": [
    "from IPython.display import Image\n",
    "\n",
    "Image(\"kmeans.png\", width=600, height=400)"
   ]
  },
  {
   "cell_type": "markdown",
   "id": "70a26fa3-23d6-4612-9954-11f449212e09",
   "metadata": {},
   "source": [
    "#### 모델해석하기) \n",
    "- Cluster 1 (Red Color) -> earning high but spending less\n",
    "- cluster 2 (Blue Colr) -> average in terms of earning and spending \n",
    "- cluster 3 (Green Color) -> earning high and also spending high \n",
    "    - 만약 쇼핑몰에서 매출을 올리면? 이 그룹을 타켓팅해서 올려야 될 것입니다. \n",
    "    - 이 고객 그룹에게 마케팅을 해야 될 것입니다. \n",
    "    - 분석의 insight 결론이 될 것입니다.\n",
    "- cluster 4 (cyan Color) -> earning less but spending more\n",
    "- Cluster 5 (magenta Color) -> Earning less , spending less"
   ]
  },
  {
   "cell_type": "code",
   "execution_count": null,
   "id": "d377c0d4-473b-4107-99b8-b1fe60b5409b",
   "metadata": {},
   "outputs": [],
   "source": []
  }
 ],
 "metadata": {
  "kernelspec": {
   "display_name": "Python 3",
   "language": "python",
   "name": "python3"
  },
  "language_info": {
   "codemirror_mode": {
    "name": "ipython",
    "version": 3
   },
   "file_extension": ".py",
   "mimetype": "text/x-python",
   "name": "python",
   "nbconvert_exporter": "python",
   "pygments_lexer": "ipython3",
   "version": "3.8.8"
  }
 },
 "nbformat": 4,
 "nbformat_minor": 5
}
